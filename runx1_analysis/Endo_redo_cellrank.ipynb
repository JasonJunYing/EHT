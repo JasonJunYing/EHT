{
 "cells": [
  {
   "cell_type": "markdown",
   "id": "7b9c633b-3138-44e6-9649-7052506e883b",
   "metadata": {},
   "source": [
    "# Endo Cellrank\n",
    "# Xiaonan Wang\n",
    "## 17July2024"
   ]
  },
  {
   "cell_type": "code",
   "execution_count": null,
   "id": "aded741e",
   "metadata": {},
   "outputs": [],
   "source": [
    "import scvelo as scv\n",
    "import scanpy as sc\n",
    "import cellrank as cr\n",
    "import numpy as np\n",
    "\n",
    "scv.settings.verbosity = 3\n",
    "scv.settings.set_figure_params(\"scvelo\")\n",
    "cr.settings.verbosity = 2"
   ]
  },
  {
   "cell_type": "code",
   "execution_count": null,
   "id": "3831863c",
   "metadata": {},
   "outputs": [],
   "source": [
    "import warnings\n",
    "\n",
    "warnings.simplefilter(\"ignore\", category=UserWarning)\n",
    "warnings.simplefilter(\"ignore\", category=FutureWarning)\n",
    "warnings.simplefilter(\"ignore\", category=DeprecationWarning)"
   ]
  },
  {
   "cell_type": "code",
   "execution_count": null,
   "id": "1d513ab3",
   "metadata": {},
   "outputs": [],
   "source": [
    "results_file = '../write/EndoCells_v2_BC.h5ad'\n",
    "adata_scanpy = sc.read(results_file)"
   ]
  },
  {
   "cell_type": "code",
   "execution_count": null,
   "id": "3b125b6e",
   "metadata": {},
   "outputs": [],
   "source": [
    "adata_scanpy.obs['batch_name'] = adata_scanpy.obs['batch']\n",
    "adata_scanpy.obs['batch_name'] = adata_scanpy.obs['batch_name'].astype('category')\n",
    "adata_scanpy.obs['batch_name'] = adata_scanpy.obs['batch_name'].cat.rename_categories(['possorted_genome_bam_3ZJQV', 'possorted_genome_bam_VV1XV','possorted_genome_bam_XTS2D'])\n",
    "adata_scanpy.obs['temp_name'] = [adata_scanpy.obs['batch_name'][x]+':'+adata_scanpy.obs_names[x][:-4]+'x' for x in range(adata_scanpy.shape[0])]\n",
    "adata_scanpy.obs['obs_name'] = adata_scanpy.obs_names\n",
    "adata_scanpy.obs_names = adata_scanpy.obs['temp_name']"
   ]
  },
  {
   "cell_type": "code",
   "execution_count": null,
   "id": "c0ba00df",
   "metadata": {},
   "outputs": [],
   "source": [
    "adata = scv.read('../combined_45_46_47_orig.loom', cache=True)\n",
    "adata.var_names_make_unique()\n",
    "adata = adata[adata_scanpy.obs_names, :]"
   ]
  },
  {
   "cell_type": "code",
   "execution_count": null,
   "id": "6caa601f",
   "metadata": {},
   "outputs": [],
   "source": [
    "adata.obs['clusters'] = adata_scanpy.obs['louvain_BC']\n",
    "adata.obsm['X_umap'] = adata_scanpy.obsm['X_umap']\n",
    "adata.obsm['X_pca'] = adata_scanpy.obsm['X_pca']"
   ]
  },
  {
   "cell_type": "code",
   "execution_count": null,
   "id": "f48fc3c6",
   "metadata": {},
   "outputs": [],
   "source": [
    "adata.obs['Study'] = adata_scanpy.obs['Study']"
   ]
  },
  {
   "cell_type": "code",
   "execution_count": null,
   "id": "85527e9e",
   "metadata": {},
   "outputs": [],
   "source": [
    "adata.obs['louvain_rd10'] = adata_scanpy.obs['louvain_rd10']\n",
    "adata.obs['louvain_rd10'] = adata.obs['louvain_rd10'].astype('category')\n",
    "louvain_rd10_colors = [\n",
    "    '#0B5345', '#15AB0F', '#63D95E', '#1D8348','#4BB80C', '#52BE80', '#1EF861', \n",
    "    '#D4E95E', '#8CA11C', '#7B8003', '#444604',\n",
    "    '#5175FB', \n",
    "    '#58DDF5', '#2190A4', \n",
    "    '#A42DE9', '#7015EB', '#ABB7FF',\n",
    "    '#F22BA2', '#EC7DBF',\n",
    "    '#CC3D6E', '#FCC176', '#FFADAB', '#A93226', '#FD1901',\n",
    "    '#FF5733', '#ff9900',\n",
    "    '#C0C0C0'    \n",
    "]\n",
    "palette = np.array(louvain_rd10_colors)[np.array(list(adata.obs['louvain_rd10'].cat.categories)).astype(int)]\n",
    "adata.uns['louvain_rd10_colors'] = palette"
   ]
  },
  {
   "cell_type": "code",
   "execution_count": null,
   "id": "d13064c6",
   "metadata": {},
   "outputs": [],
   "source": [
    "scv.utils.show_proportions(adata)\n",
    "adata"
   ]
  },
  {
   "cell_type": "code",
   "execution_count": null,
   "id": "17999acb",
   "metadata": {},
   "outputs": [],
   "source": [
    "scv.pp.filter_and_normalize(adata, min_shared_counts=10, n_top_genes=2000)"
   ]
  },
  {
   "cell_type": "code",
   "execution_count": null,
   "id": "4f5dba8a",
   "metadata": {},
   "outputs": [],
   "source": [
    "scv.pp.moments(adata, n_pcs=30, n_neighbors=30)"
   ]
  },
  {
   "cell_type": "code",
   "execution_count": null,
   "id": "0e47ef90",
   "metadata": {},
   "outputs": [],
   "source": [
    "scv.tl.recover_dynamics(adata)\n",
    "scv.tl.velocity(adata, mode='dynamical')\n",
    "scv.tl.velocity_graph(adata)"
   ]
  },
  {
   "cell_type": "code",
   "execution_count": null,
   "id": "1643b5a4",
   "metadata": {},
   "outputs": [],
   "source": [
    "scv.pl.velocity_embedding_stream(\n",
    "    adata, color='Study', basis=\"umap\", legend_fontsize=12, title=\"\", legend_loc='right margin'\n",
    ")"
   ]
  },
  {
   "cell_type": "code",
   "execution_count": null,
   "id": "0abb3af5",
   "metadata": {},
   "outputs": [],
   "source": [
    "scv.pl.velocity_embedding_stream(\n",
    "    adata, color='clusters', basis=\"umap\", legend_fontsize=12, title=\"\", legend_loc='on data'\n",
    ")"
   ]
  },
  {
   "cell_type": "code",
   "execution_count": null,
   "id": "46f3dd3b",
   "metadata": {},
   "outputs": [],
   "source": [
    "from cellrank.tl.kernels import VelocityKernel\n",
    "\n",
    "vk = VelocityKernel(adata)"
   ]
  },
  {
   "cell_type": "code",
   "execution_count": null,
   "id": "4fa443fa",
   "metadata": {},
   "outputs": [],
   "source": [
    "vk.compute_transition_matrix()"
   ]
  },
  {
   "cell_type": "code",
   "execution_count": null,
   "id": "22e5a006",
   "metadata": {},
   "outputs": [],
   "source": [
    "vk.compute_projection(basis=\"umap\", key_added='T_fwd')\n",
    "scv.pl.velocity_embedding_stream(\n",
    "    adata, color=\"clusters\", vkey=\"T_fwd\", basis=\"umap\", legend_loc=\"right\"\n",
    ")"
   ]
  },
  {
   "cell_type": "code",
   "execution_count": null,
   "id": "bf9c2283",
   "metadata": {},
   "outputs": [],
   "source": [
    "from cellrank.tl.estimators import GPCCA\n",
    "g = GPCCA(vk)\n",
    "g.compute_schur(n_components=20)\n",
    "g.plot_spectrum(real_only=True)"
   ]
  },
  {
   "cell_type": "code",
   "execution_count": null,
   "id": "81d0c3d0",
   "metadata": {},
   "outputs": [],
   "source": [
    "scv.tl.recover_latent_time(adata)"
   ]
  },
  {
   "cell_type": "code",
   "execution_count": null,
   "id": "625158b6",
   "metadata": {},
   "outputs": [],
   "source": [
    "import pandas as pd\n",
    "def get_terminal_states(adata, clusters, cell_no=50, clusters_key='leiden',\n",
    "                        pseudotime_key='dpt_pseudotime'):\n",
    "    cells = pd.Series(np.nan, index=adata.obs_names)\n",
    "    for i in clusters:\n",
    "        cluster_adata = adata[adata.obs[clusters_key] == i, :]\n",
    "        topT = cluster_adata.obs[pseudotime_key].sort_values(ascending=False)\n",
    "        topT = topT.index[:cell_no].values\n",
    "        cells[topT] = i\n",
    "    return(pd.Series(cells, dtype=\"category\"))"
   ]
  },
  {
   "cell_type": "code",
   "execution_count": null,
   "id": "131b92ba",
   "metadata": {},
   "outputs": [],
   "source": [
    "finalstates = get_terminal_states(adata, clusters =['10', '3', '9', '1', '8', '11', '5'], clusters_key='clusters',pseudotime_key='latent_time')"
   ]
  },
  {
   "cell_type": "code",
   "execution_count": null,
   "id": "1d1f669d",
   "metadata": {},
   "outputs": [],
   "source": [
    "g.set_terminal_states(finalstates, cluster_key=\"clusters\")"
   ]
  },
  {
   "cell_type": "code",
   "execution_count": null,
   "id": "73c85ecc",
   "metadata": {},
   "outputs": [],
   "source": [
    "g.compute_absorption_probabilities( solver=\"gmres\", n_jobs=6, preconditioner='ilu')"
   ]
  },
  {
   "cell_type": "code",
   "execution_count": null,
   "id": "4622c8c4",
   "metadata": {},
   "outputs": [],
   "source": [
    "g.plot_absorption_probabilities(same_plot=False, basis=\"umap\", perc=[0, 99], ncols=3)"
   ]
  },
  {
   "cell_type": "code",
   "execution_count": null,
   "id": "c9ac1a3f",
   "metadata": {},
   "outputs": [],
   "source": [
    "g.plot_absorption_probabilities(same_plot=True, basis=\"umap\")"
   ]
  },
  {
   "cell_type": "code",
   "execution_count": null,
   "id": "90a6aeb8",
   "metadata": {},
   "outputs": [],
   "source": [
    "g.compute_lineage_drivers(cluster_key=\"Leiden_ct\", use_raw=False)"
   ]
  },
  {
   "cell_type": "code",
   "execution_count": null,
   "id": "3ccc7e89",
   "metadata": {},
   "outputs": [],
   "source": [
    "lin_drivers = g.lineage_drivers"
   ]
  },
  {
   "cell_type": "code",
   "execution_count": null,
   "id": "bd174475",
   "metadata": {},
   "outputs": [],
   "source": [
    "lin_drivers['11_corr']"
   ]
  },
  {
   "cell_type": "code",
   "execution_count": null,
   "id": "58fbba52",
   "metadata": {},
   "outputs": [],
   "source": [
    "scv.tl.recover_latent_time(\n",
    "    adata, root_key=\"initial_states_probs\", end_key=\"terminal_states_probs\"\n",
    ")"
   ]
  },
  {
   "cell_type": "code",
   "execution_count": null,
   "id": "a704f3e8",
   "metadata": {},
   "outputs": [],
   "source": [
    "sc.pl.umap(adata, color='latent_time')"
   ]
  },
  {
   "cell_type": "code",
   "execution_count": null,
   "id": "f81d3845",
   "metadata": {},
   "outputs": [],
   "source": [
    "scv.tl.paga(\n",
    "    adata,\n",
    "    groups=\"clusters\",\n",
    "    root_key=\"initial_states_probs\",\n",
    "    end_key=\"terminal_states_probs\",\n",
    "    use_time_prior=\"velocity_pseudotime\",\n",
    ")"
   ]
  },
  {
   "cell_type": "code",
   "execution_count": null,
   "id": "0d7fa7c5",
   "metadata": {},
   "outputs": [],
   "source": [
    "cr.pl.cluster_fates(\n",
    "    adata,\n",
    "    mode=\"paga_pie\",\n",
    "    cluster_key=\"clusters\",\n",
    "    basis=\"umap\",\n",
    "    legend_kwargs={\"loc\": \"top right out\"},\n",
    "    legend_loc=\"top left out\",\n",
    "    node_size_scale=5,\n",
    "    edge_width_scale=1,\n",
    "    max_edge_width=4,\n",
    "    title=\"directed PAGA\",\n",
    ")"
   ]
  },
  {
   "cell_type": "code",
   "execution_count": null,
   "id": "1d0cf7f0",
   "metadata": {},
   "outputs": [],
   "source": [
    "cr.pl.lineage_drivers(adata, lineage=\"11\", n_genes=5, ncols=3)"
   ]
  },
  {
   "cell_type": "code",
   "execution_count": null,
   "id": "b92d241a",
   "metadata": {},
   "outputs": [],
   "source": [
    "cr.pl.lineage_drivers(adata, lineage=\"5\", n_genes=5, ncols=3)"
   ]
  },
  {
   "cell_type": "code",
   "execution_count": null,
   "id": "0b3fe7a5",
   "metadata": {},
   "outputs": [],
   "source": [
    "root_idx = np.where(adata.obs[\"initial_states\"] == \"2\")[0][0]\n",
    "adata.uns[\"iroot\"] = root_idx\n",
    "sc.tl.dpt(adata)\n",
    "\n",
    "scv.pl.scatter(\n",
    "    adata,\n",
    "    color=[\"clusters\", root_idx, \"latent_time\", \"dpt_pseudotime\"],\n",
    "    fontsize=16,\n",
    "    cmap=\"viridis\",\n",
    "    perc=[2, 98],\n",
    "    colorbar=True,\n",
    "    rescale_color=[0, 1],\n",
    "    title=[\"clusters\", \"root cell\", \"latent time\", \"dpt pseudotime\"],\n",
    ")"
   ]
  },
  {
   "cell_type": "code",
   "execution_count": null,
   "id": "ed0e79df",
   "metadata": {},
   "outputs": [],
   "source": [
    "model = cr.ul.models.GAM(adata)\n",
    "cr.pl.heatmap(\n",
    "    adata,\n",
    "    model,\n",
    "    genes=adata.varm['terminal_lineage_drivers'][\"11_corr\"].sort_values(ascending=False).index[:100],\n",
    "    show_absorption_probabilities=True,\n",
    "    lineages=\"11\",\n",
    "    n_jobs=1,\n",
    "    backend=\"loky\",\n",
    ")"
   ]
  },
  {
   "cell_type": "code",
   "execution_count": null,
   "id": "0d69967b",
   "metadata": {},
   "outputs": [],
   "source": [
    "cr.pl.heatmap(\n",
    "    adata,\n",
    "    model,\n",
    "    genes=adata.varm['terminal_lineage_drivers'][\"5_corr\"].sort_values(ascending=False).index[:100],\n",
    "    show_absorption_probabilities=True,\n",
    "    lineages=\"5\",\n",
    "    n_jobs=1,\n",
    "    backend=\"loky\",\n",
    ")"
   ]
  },
  {
   "cell_type": "code",
   "execution_count": null,
   "id": "f0d834f1",
   "metadata": {},
   "outputs": [],
   "source": [
    "import smqpp\n",
    "with open('../../ZFIN.gmt') as f:\n",
    "    DBcont = f.readlines()"
   ]
  },
  {
   "cell_type": "code",
   "execution_count": null,
   "id": "104eca29",
   "metadata": {},
   "outputs": [],
   "source": [
    "results_file = '../write/EndoCells_v2_BC.h5ad'\n",
    "adata = sc.read(results_file)\n",
    "temp = adata.raw \n",
    "del adata.raw\n",
    "import anndata\n",
    "adata.raw = anndata.AnnData(X=temp.X, var=temp.var, obs=adata.obs)\n",
    "del temp"
   ]
  },
  {
   "cell_type": "code",
   "execution_count": null,
   "id": "c2e24ade",
   "metadata": {},
   "outputs": [],
   "source": [
    "scoreBiomarker = smqpp.pathway_score_cal(adata, DBcont)\n",
    "scoreBiomarker = anndata.AnnData(scoreBiomarker, obs=adata.obs, var=pd.DataFrame(scoreBiomarker.columns, index=scoreBiomarker.columns), obsm=adata.obsm)\n",
    "sc.tl.rank_genes_groups(scoreBiomarker, 'louvain_BC', n_genes=scoreBiomarker.shape[1], key_added='DE_louvain_BC')"
   ]
  },
  {
   "cell_type": "code",
   "execution_count": null,
   "id": "d1566aa6",
   "metadata": {},
   "outputs": [],
   "source": [
    "from matplotlib.colors import LinearSegmentedColormap\n",
    "cmap = LinearSegmentedColormap.from_list(name='gene_cmap', colors=['lightgrey', 'thistle', 'red', 'darkred']) "
   ]
  },
  {
   "cell_type": "code",
   "execution_count": null,
   "id": "07196006",
   "metadata": {},
   "outputs": [],
   "source": [
    "sc.pl.umap(scoreBiomarker, color=['inflammatory response', 'extracellular matrix structural constituent', 'thrombocyte differentiation'], color_map=cmap)"
   ]
  },
  {
   "cell_type": "code",
   "execution_count": null,
   "id": "52cc8e04",
   "metadata": {},
   "outputs": [],
   "source": []
  },
  {
   "cell_type": "code",
   "execution_count": null,
   "id": "0c25afea",
   "metadata": {},
   "outputs": [],
   "source": []
  },
  {
   "cell_type": "code",
   "execution_count": null,
   "id": "dec1c2fa",
   "metadata": {},
   "outputs": [],
   "source": []
  },
  {
   "cell_type": "code",
   "execution_count": null,
   "id": "1fb2eedc",
   "metadata": {},
   "outputs": [],
   "source": []
  }
 ],
 "metadata": {
  "kernelspec": {
   "display_name": "Scanpy198",
   "language": "python",
   "name": "scanpy198"
  },
  "language_info": {
   "codemirror_mode": {
    "name": "ipython",
    "version": 3
   },
   "file_extension": ".py",
   "mimetype": "text/x-python",
   "name": "python",
   "nbconvert_exporter": "python",
   "pygments_lexer": "ipython3",
   "version": "3.11.8"
  }
 },
 "nbformat": 4,
 "nbformat_minor": 5
}

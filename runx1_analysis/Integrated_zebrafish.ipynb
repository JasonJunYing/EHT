{
 "cells": [
  {
   "cell_type": "markdown",
   "id": "1405ce17",
   "metadata": {},
   "source": [
    "# Integrated Zebrafish cells\n",
    "## Xiaonan Wang\n",
    "## 17July2024"
   ]
  },
  {
   "cell_type": "code",
   "execution_count": null,
   "id": "f8e82786",
   "metadata": {},
   "outputs": [],
   "source": [
    "#%matplotlib nbagg\n",
    "import numpy as np\n",
    "import matplotlib.pyplot as plt\n",
    "import scanpy as sc\n",
    "import pandas as pd\n",
    "from os import listdir\n",
    "from os.path import isfile, join\n",
    "import re\n",
    "import anndata\n",
    "import seaborn as sns\n",
    "\n",
    "plt.rcParams['pdf.fonttype'] = 42\n",
    "plt.rcParams['ps.fonttype'] = 42\n",
    "\n",
    "sc.settings.verbosity = 3  # verbosity: errors (0), warnings (1), info (2), hints (3)\n",
    "sc.logging.print_header()\n",
    "\n",
    "from matplotlib.colors import LinearSegmentedColormap\n",
    "cmap = LinearSegmentedColormap.from_list(name='gene_cmap', colors=['lightgrey', 'thistle', 'red', 'darkred']) \n",
    "\n",
    "sc.settings.set_figure_params(dpi=80, color_map='viridis', vector_friendly=False,  dpi_save=300)"
   ]
  },
  {
   "cell_type": "code",
   "execution_count": null,
   "id": "260cb276",
   "metadata": {},
   "outputs": [],
   "source": [
    "adata1 = sc.read('./write/GSE159032.h5ad')\n",
    "adata2 = sc.read('./write/other.h5ad')"
   ]
  },
  {
   "cell_type": "code",
   "execution_count": null,
   "id": "12a47168",
   "metadata": {},
   "outputs": [],
   "source": [
    "adata1.obs['Cell_type'].value_counts()"
   ]
  },
  {
   "cell_type": "code",
   "execution_count": null,
   "id": "f9f56fee",
   "metadata": {},
   "outputs": [],
   "source": [
    "adata2.obs['Cell_type'].value_counts()"
   ]
  },
  {
   "cell_type": "code",
   "execution_count": null,
   "id": "75237bc9",
   "metadata": {},
   "outputs": [],
   "source": [
    "adata = adata1.concatenate(adata2)"
   ]
  },
  {
   "cell_type": "code",
   "execution_count": null,
   "id": "025c9830",
   "metadata": {},
   "outputs": [],
   "source": [
    "adata.obs['Cell_type'].value_counts()"
   ]
  },
  {
   "cell_type": "code",
   "execution_count": null,
   "id": "1c739b0e",
   "metadata": {},
   "outputs": [],
   "source": [
    "fig, ax = plt.subplots(figsize=(8,8))\n",
    "sc.pl.umap(adata, color=\"Cell_type\", legend_loc=\"on data\", legend_fontsize=\"xx-small\", ax=ax, show=False)"
   ]
  },
  {
   "cell_type": "code",
   "execution_count": null,
   "id": "c2353290",
   "metadata": {},
   "outputs": [],
   "source": [
    "# Need to use outer to get exp for all the genes\n",
    "# GSE138181 - Koth 2020 Development\n",
    "Koth = sc.read('/cluster/groups/Wangxiaonan/share/rev_MI/GSE138181/write/GSE138181_processed.h5ad', cache=True)\n",
    "# GSE153170 - Bakker 2021 Development\n",
    "Bakker = sc.read('/cluster/groups/Wangxiaonan/share/rev_MI/GSE153170/write/GSE153170_processed.h5ad', cache=True)\n",
    "# GSE172511 - Sun 2022 Circulation\n",
    "Sun = sc.read('/cluster/groups/Wangxiaonan/share/rev_MI/GSE172511/write/GSE172511_processed.h5ad', cache=True)\n",
    "# GSE159032 - Hu 2022 Nature genetics\n",
    "Hu = sc.read('/cluster/groups/Wangxiaonan/share/rev_MI/GSE159032_GSE158919/write/GSE159032_GSE158919_processed_anno.h5ad', cache=True)\n",
    "# GSE188511 - Kapuria 2022 Development\n",
    "Kapuria = sc.read('/cluster/groups/Wangxiaonan/share/rev_MI/GSE188511/write/GSE188511_processed.h5ad', cache=True)\n",
    "# GSE145980 - Ma 2021 EMBO Reports\n",
    "Ma = sc.read('/cluster/groups/Wangxiaonan/share/rev_MI/GSE145980/write/GSE145980_processed.h5ad', cache=True)"
   ]
  },
  {
   "cell_type": "code",
   "execution_count": null,
   "id": "e79cdca9",
   "metadata": {},
   "outputs": [],
   "source": [
    "# adata: .X:row: cell, col: gene -> scaled matrix; .var: high variable genes; .obs: cell annotation\n",
    "# adata.raw: .X: log norm, .var: all expressed genes\n",
    "Koth = anndata.AnnData(X=Koth.raw.X, obs=Koth.obs, var=Koth.raw.var, obsm=Koth.obsm)\n",
    "Bakker = anndata.AnnData(X=Bakker.raw.X, obs=Bakker.obs, var=Bakker.raw.var, obsm=Bakker.obsm)\n",
    "Sun = anndata.AnnData(X=Sun.raw.X, obs=Sun.obs, var=Sun.raw.var, obsm=Sun.obsm)\n",
    "Hu = anndata.AnnData(X=Hu.raw.X, obs=Hu.obs, var=Hu.raw.var, obsm=Hu.obsm)\n",
    "Kapuria = anndata.AnnData(X=Kapuria.raw.X, obs=Kapuria.obs, var=Kapuria.raw.var, obsm=Kapuria.obsm)\n",
    "Ma = anndata.AnnData(X=Ma.raw.X, obs=Ma.obs, var=Ma.raw.var, obsm=Ma.obsm)"
   ]
  },
  {
   "cell_type": "code",
   "execution_count": null,
   "id": "525f3681",
   "metadata": {},
   "outputs": [],
   "source": [
    "print('Koth'+str(Koth.shape))\n",
    "print('Bakker'+str(Bakker.shape))\n",
    "print('Sun'+str(Sun.shape))\n",
    "print('Hu'+str(Hu.shape))\n",
    "print('Kapuria'+str(Kapuria.shape))\n",
    "print('Ma'+str(Ma.shape))"
   ]
  },
  {
   "cell_type": "code",
   "execution_count": null,
   "id": "f6c04034",
   "metadata": {},
   "outputs": [],
   "source": [
    "adata_raw = [Koth, Bakker, Sun, Hu, Kapuria, Ma]"
   ]
  },
  {
   "cell_type": "code",
   "execution_count": null,
   "id": "b899811b",
   "metadata": {},
   "outputs": [],
   "source": [
    "for i in range(len(adata_raw)):\n",
    "    print(adata_raw[i].shape)\n",
    "    adata_raw[i].var_names_make_unique()"
   ]
  },
  {
   "cell_type": "code",
   "execution_count": null,
   "id": "27e494e0",
   "metadata": {},
   "outputs": [],
   "source": [
    "#combine and save the raw counts\n",
    "adata_raw = anndata.AnnData.concatenate(*adata_raw, join='outer')"
   ]
  },
  {
   "cell_type": "code",
   "execution_count": null,
   "id": "cba466b8",
   "metadata": {},
   "outputs": [],
   "source": [
    "adata.obs_names = [x[:-2] for x in adata.obs_names]"
   ]
  },
  {
   "cell_type": "code",
   "execution_count": null,
   "id": "0bd16873",
   "metadata": {},
   "outputs": [],
   "source": [
    "adata_raw = adata_raw[adata.obs_names].copy()"
   ]
  },
  {
   "cell_type": "code",
   "execution_count": null,
   "id": "aba68da7",
   "metadata": {},
   "outputs": [],
   "source": [
    "adata.shape"
   ]
  },
  {
   "cell_type": "code",
   "execution_count": null,
   "id": "7a2184f8",
   "metadata": {},
   "outputs": [],
   "source": [
    "adata_raw.shape"
   ]
  },
  {
   "cell_type": "code",
   "execution_count": null,
   "id": "3f7735f5",
   "metadata": {},
   "outputs": [],
   "source": [
    "adata.raw = adata_raw"
   ]
  },
  {
   "cell_type": "code",
   "execution_count": null,
   "id": "515c83b7",
   "metadata": {},
   "outputs": [],
   "source": [
    "for k in adata.raw.var.columns:\n",
    "    adata.raw.var[k] = adata.raw.var[k].astype(str)"
   ]
  },
  {
   "cell_type": "code",
   "execution_count": null,
   "id": "fdba53a4",
   "metadata": {},
   "outputs": [],
   "source": [
    "adata.write('./adata_paga_int.h5ad')"
   ]
  },
  {
   "cell_type": "code",
   "execution_count": null,
   "id": "ce77f997",
   "metadata": {},
   "outputs": [],
   "source": [
    "adata = sc.read_h5ad('./adata_paga_int.h5ad')"
   ]
  },
  {
   "cell_type": "code",
   "execution_count": null,
   "id": "0d2be4e4",
   "metadata": {},
   "outputs": [],
   "source": [
    "adata_filtered = adata[adata.obs['Genotype'] == \"WT\"].copy()\n",
    "adata_filtered = adata_filtered[~np.in1d(adata_filtered.obs['Treatment'], np.array(['DMSO', 'IWR', 'morphine']))].copy()\n",
    "adata_filtered = adata_filtered[adata_filtered.obs['Strain'] != \"AB\"].copy()"
   ]
  },
  {
   "cell_type": "code",
   "execution_count": null,
   "id": "10f27965",
   "metadata": {},
   "outputs": [],
   "source": [
    "adata_filtered.obs['Condition'].value_counts()"
   ]
  },
  {
   "cell_type": "code",
   "execution_count": null,
   "id": "80240139",
   "metadata": {},
   "outputs": [],
   "source": [
    "sc.pl.umap(adata[adata.obs['Condition'] == 'Healthy'], color=['fli1a', 'kdrl', 'myh11a', 'apln'], color_map=cmap, size=10, vmax=2)"
   ]
  },
  {
   "cell_type": "code",
   "execution_count": null,
   "id": "57be59b8",
   "metadata": {},
   "outputs": [],
   "source": [
    "sc.pl.umap(adata[adata.obs['Condition'] == 'Healthy'], legend_fontsize=\"xx-small\", color=['Cell_type'], color_map=cmap, size=10, vmax=2)"
   ]
  },
  {
   "cell_type": "code",
   "execution_count": null,
   "id": "21f8f77f",
   "metadata": {},
   "outputs": [],
   "source": [
    "fig, ax = plt.subplots(figsize=(8,8))\n",
    "sc.pl.umap(adata[adata.obs['Condition'] == 'Healthy'], legend_loc=\"on data\", legend_fontsize=\"xx-small\", color=['lineage.ident'], color_map=cmap,ax=ax, size=10, vmax=2)"
   ]
  },
  {
   "cell_type": "code",
   "execution_count": null,
   "id": "9030e53d",
   "metadata": {},
   "outputs": [],
   "source": [
    "fig, ax = plt.subplots(figsize=(8,8))\n",
    "sc.pl.umap(adata[adata.obs['Condition'] == 'Healthy'],  legend_fontsize=\"xx-small\", color=['lineage.ident'], color_map=cmap,ax=ax, size=10, vmax=2)"
   ]
  },
  {
   "cell_type": "code",
   "execution_count": null,
   "id": "e8421fb5",
   "metadata": {},
   "outputs": [],
   "source": [
    "fig, ax = plt.subplots(figsize=(8,8))\n",
    "sc.pl.umap(adata[adata.obs['Condition'] == 'Injured'],  legend_fontsize=\"xx-small\", color=['lineage.ident'], color_map=cmap,ax=ax, size=10, vmax=2)"
   ]
  },
  {
   "cell_type": "code",
   "execution_count": null,
   "id": "09294624",
   "metadata": {},
   "outputs": [],
   "source": [
    "fig, ax = plt.subplots(figsize=(8,8))\n",
    "sc.pl.umap(adata[adata.obs['Condition'] == 'Injured'], legend_loc=\"on data\", legend_fontsize=\"xx-small\", color=['lineage.ident'], color_map=cmap,ax=ax, size=10, vmax=2)"
   ]
  },
  {
   "cell_type": "markdown",
   "id": "34fac4a9",
   "metadata": {},
   "source": [
    "# Extract dataset"
   ]
  },
  {
   "cell_type": "code",
   "execution_count": null,
   "id": "122d23a8",
   "metadata": {},
   "outputs": [],
   "source": [
    "tilly_all = adata[adata.obs['StudyID'] == 'GSE138181'].copy()"
   ]
  },
  {
   "cell_type": "code",
   "execution_count": null,
   "id": "decdcff4",
   "metadata": {},
   "outputs": [],
   "source": [
    "tilly_all.obs_names = [x[:-2] for x in tilly_all.obs_names]"
   ]
  },
  {
   "cell_type": "code",
   "execution_count": null,
   "id": "970af3f4",
   "metadata": {},
   "outputs": [],
   "source": [
    "tilly_all.shape"
   ]
  },
  {
   "cell_type": "code",
   "execution_count": null,
   "id": "0c697c7a",
   "metadata": {},
   "outputs": [],
   "source": [
    "tilly = sc.read_h5ad(\"Final_DBpos_norm_afterQC.h5ad\")"
   ]
  },
  {
   "cell_type": "code",
   "execution_count": null,
   "id": "c3e71c62",
   "metadata": {},
   "outputs": [],
   "source": [
    "tilly.shape"
   ]
  },
  {
   "cell_type": "code",
   "execution_count": null,
   "id": "e592b015",
   "metadata": {},
   "outputs": [],
   "source": [
    "len(np.intersect1d(tilly.obs_names, tilly_all.obs_names))"
   ]
  },
  {
   "cell_type": "code",
   "execution_count": null,
   "id": "b942df32",
   "metadata": {},
   "outputs": [],
   "source": [
    "print(tilly.obs_keys())"
   ]
  },
  {
   "cell_type": "code",
   "execution_count": null,
   "id": "419f9789",
   "metadata": {},
   "outputs": [],
   "source": [
    "p1 = tilly.obs[['louvain_dbpos']]\n",
    "p2 = tilly_all.obs"
   ]
  },
  {
   "cell_type": "code",
   "execution_count": null,
   "id": "313d186a",
   "metadata": {},
   "outputs": [],
   "source": [
    "p2.shape"
   ]
  },
  {
   "cell_type": "code",
   "execution_count": null,
   "id": "6a601c67",
   "metadata": {},
   "outputs": [],
   "source": [
    "p2_meta = p2.join(p1, how='left')"
   ]
  },
  {
   "cell_type": "code",
   "execution_count": null,
   "id": "1ad5af4f",
   "metadata": {},
   "outputs": [],
   "source": [
    "12838-sum(p2_meta['louvain_dbpos'].isnull().values)"
   ]
  },
  {
   "cell_type": "code",
   "execution_count": null,
   "id": "6d189916",
   "metadata": {},
   "outputs": [],
   "source": [
    "tilly_all.obs = p2_meta"
   ]
  },
  {
   "cell_type": "code",
   "execution_count": null,
   "id": "f1dff4db",
   "metadata": {},
   "outputs": [],
   "source": [
    "# Tilly wants to look at the PT, so first calcualte the pseudotime\n",
    "sc.tl.diffmap(tilly)"
   ]
  },
  {
   "cell_type": "code",
   "execution_count": null,
   "id": "4c7bc976",
   "metadata": {},
   "outputs": [],
   "source": [
    "sc.pl.umap(tilly, color=['louvain_dbpos'])"
   ]
  },
  {
   "cell_type": "code",
   "execution_count": null,
   "id": "32a6e09c",
   "metadata": {},
   "outputs": [],
   "source": [
    "sc.pl.diffmap(tilly, color=['louvain_dbpos'], color_map=cmap,components=['2,4'])"
   ]
  },
  {
   "cell_type": "code",
   "execution_count": null,
   "id": "7c958de0",
   "metadata": {},
   "outputs": [],
   "source": [
    "dc2 = pd.DataFrame(tilly.obsm['X_diffmap'])[3]\n",
    "tilly.obs['dpt_root'] = np.in1d(dc2, np.min(dc2))*1"
   ]
  },
  {
   "cell_type": "code",
   "execution_count": null,
   "id": "c686a714",
   "metadata": {},
   "outputs": [],
   "source": [
    "sc.pl.diffmap(tilly, color=['dpt_root'], color_map=cmap,components=['2,4'])"
   ]
  },
  {
   "cell_type": "code",
   "execution_count": null,
   "id": "73907d89",
   "metadata": {},
   "outputs": [],
   "source": [
    "sc.pl.umap(tilly, color=['dpt_root'], color_map=cmap)"
   ]
  },
  {
   "cell_type": "code",
   "execution_count": null,
   "id": "3ac45aad",
   "metadata": {},
   "outputs": [],
   "source": [
    "tilly.uns['iroot'] = np.where(dc2 == np.min(dc2))[0][0]\n",
    "sc.tl.dpt(tilly)"
   ]
  },
  {
   "cell_type": "code",
   "execution_count": null,
   "id": "ab94c73e",
   "metadata": {},
   "outputs": [],
   "source": [
    "sc.pl.diffmap(tilly, color=['dpt_pseudotime', 'louvain_dbpos'],components=['2,4'], color_map=cmap, save=\"_oldpc_dbpos.pdf\")"
   ]
  },
  {
   "cell_type": "code",
   "execution_count": null,
   "id": "7b2bd367",
   "metadata": {},
   "outputs": [],
   "source": [
    "tilly.obs['Condition'] = tilly.obs['Study'].astype(str) + '_' + tilly.obs['louvain_dbpos'].astype(str)"
   ]
  },
  {
   "cell_type": "code",
   "execution_count": null,
   "id": "8434e291",
   "metadata": {},
   "outputs": [],
   "source": [
    "wt = tilly[tilly.obs['Study'] == 'WT'].copy()"
   ]
  },
  {
   "cell_type": "code",
   "execution_count": null,
   "id": "7c8115a4",
   "metadata": {},
   "outputs": [],
   "source": [
    "sc.tl.rank_genes_groups(wt, groupby='Condition', ngenes=wt.raw.shape[1], method='t-test', key_added='DEcon')"
   ]
  },
  {
   "cell_type": "code",
   "execution_count": null,
   "id": "581bf379",
   "metadata": {},
   "outputs": [],
   "source": [
    "pd.DataFrame(wt.uns['DEcon']['names']).head(10)"
   ]
  },
  {
   "cell_type": "code",
   "execution_count": null,
   "id": "d796a6e0",
   "metadata": {},
   "outputs": [],
   "source": [
    "fig, ax = plt.subplots(1,3, figsize=(9.5,3), sharex=True, sharey=True)\n",
    "sc.pl.diffmap(tilly[tilly.obs['Study'] == 'WT'],s=200, vmin=0, vmax=1, color=['louvain_dbpos'],components=['2,4'], color_map=cmap, ax=ax[0], show=False, title=\"WT\")\n",
    "sc.pl.diffmap(tilly[tilly.obs['Study'] == 'Injured'],s=200, vmin=0, vmax=1, color=['louvain_dbpos'],components=['2,4'], color_map=cmap, ax=ax[1], show=False, title=\"Injured\")\n",
    "sc.pl.diffmap(tilly[tilly.obs['Study'] == 'Injured_Runx1_KO'],s=200, vmin=0, vmax=1, color=['louvain_dbpos'],components=['2,4'], color_map=cmap, ax=ax[2], show=False, title=\"Injured_Runx1KO\")\n",
    "plt.tight_layout()\n",
    "plt.savefig(\"Diffmap_oldpc_leiden_split.pdf\", bbox_inches='tight')"
   ]
  },
  {
   "cell_type": "code",
   "execution_count": null,
   "id": "05cd8762",
   "metadata": {},
   "outputs": [],
   "source": [
    "cmap = LinearSegmentedColormap.from_list(name='gene_cmap', colors=['darkred', 'red', 'orange','blue', 'darkblue']) "
   ]
  },
  {
   "cell_type": "code",
   "execution_count": null,
   "id": "7872b3f4",
   "metadata": {},
   "outputs": [],
   "source": [
    "fig, ax = plt.subplots(1,3, figsize=(9.5,3), sharex=True, sharey=True)\n",
    "sc.pl.diffmap(tilly[tilly.obs['Study'] == 'WT'],s=200, vmin=0, vmax=1, color=['dpt_pseudotime'],components=['2,4'], color_map=cmap, ax=ax[0], show=False, title=\"WT\")\n",
    "sc.pl.diffmap(tilly[tilly.obs['Study'] == 'Injured'],s=200, vmin=0, vmax=1, color=['dpt_pseudotime'],components=['2,4'], color_map=cmap, ax=ax[1], show=False, title=\"Injured\")\n",
    "sc.pl.diffmap(tilly[tilly.obs['Study'] == 'Injured_Runx1_KO'],s=200, vmin=0, vmax=1, color=['dpt_pseudotime'],components=['2,4'], color_map=cmap, ax=ax[2], show=False, title=\"Injured_Runx1KO\")\n",
    "plt.tight_layout()\n",
    "plt.savefig(\"Diffmap_oldpc_dpt_split.pdf\", bbox_inches='tight')"
   ]
  },
  {
   "cell_type": "code",
   "execution_count": null,
   "id": "a99db5bd",
   "metadata": {},
   "outputs": [],
   "source": [
    "sc.pl.diffmap(tilly[tilly.obs['Study'] == 'WT'],s=200, vmin=0, vmax=1, color=['dpt_pseudotime', 'louvain_dbpos'],components=['2,4'], color_map=cmap, save=\"_oldpc_dbpos_WT.pdf\")"
   ]
  },
  {
   "cell_type": "code",
   "execution_count": null,
   "id": "8ca9de9f",
   "metadata": {},
   "outputs": [],
   "source": [
    "tilly.obs['Study'].value_counts()"
   ]
  },
  {
   "cell_type": "code",
   "execution_count": null,
   "id": "5ec9a709",
   "metadata": {},
   "outputs": [],
   "source": [
    "tilly_all.obs = tilly_all.obs.join(tilly.obs[['dpt_pseudotime']], how='left')"
   ]
  },
  {
   "cell_type": "code",
   "execution_count": null,
   "id": "ea6e0b05",
   "metadata": {},
   "outputs": [],
   "source": [
    "sc.pl.umap(tilly_all, color='dpt_pseudotime', color_map=cmap)"
   ]
  },
  {
   "cell_type": "code",
   "execution_count": null,
   "id": "c05e18f8",
   "metadata": {},
   "outputs": [],
   "source": [
    "sc.pl.umap(tilly_all, color=['Cell_type'], color_map=cmap, s=20)"
   ]
  },
  {
   "cell_type": "code",
   "execution_count": null,
   "id": "415a1caa",
   "metadata": {},
   "outputs": [],
   "source": [
    "tilly.obs = tilly.obs.join(tilly_all.obs[['Cell_type']], how='left')"
   ]
  },
  {
   "cell_type": "code",
   "execution_count": null,
   "id": "f01703c5",
   "metadata": {},
   "outputs": [],
   "source": [
    "sc.pl.umap(tilly_all, color=['dpt_pseudotime', 'louvain_dbpos'], color_map=cmap, s=20, save=\"_newpc_pt.pdf\")"
   ]
  },
  {
   "cell_type": "code",
   "execution_count": null,
   "id": "1388584b",
   "metadata": {},
   "outputs": [],
   "source": [
    "sc.pl.umap(tilly, color=['dpt_pseudotime'], color_map=cmap, s=100, save=\"_oldpc_pt.pdf\")"
   ]
  },
  {
   "cell_type": "code",
   "execution_count": null,
   "id": "2d5d6930",
   "metadata": {},
   "outputs": [],
   "source": [
    "sc.pl.umap(tilly, color=['louvain_dbpos', 'Cell_type'], color_map=cmap, s=100, save=\"_oldpc_celltype.pdf\")"
   ]
  },
  {
   "cell_type": "code",
   "execution_count": null,
   "id": "27cb9eb0",
   "metadata": {},
   "outputs": [],
   "source": [
    "sc.pl.umap(tilly_all[tilly_all.obs['Index'] == 'GSM4101380'], color='louvain_dbpos', size=30)"
   ]
  },
  {
   "cell_type": "code",
   "execution_count": null,
   "id": "57e15984",
   "metadata": {},
   "outputs": [],
   "source": [
    "sc.pl.umap(tilly_all[tilly_all.obs['Index'] == 'GSM4101381'], color='louvain_dbpos', size=30)"
   ]
  },
  {
   "cell_type": "code",
   "execution_count": null,
   "id": "975397ea",
   "metadata": {},
   "outputs": [],
   "source": [
    "sc.pl.umap(tilly_all[tilly_all.obs['Index'] == 'GSM4101382'], color='louvain_dbpos', size=30)"
   ]
  },
  {
   "cell_type": "code",
   "execution_count": null,
   "id": "7c646215",
   "metadata": {},
   "outputs": [],
   "source": []
  }
 ],
 "metadata": {
  "kernelspec": {
   "display_name": "Scanpy198",
   "language": "python",
   "name": "scanpy198"
  },
  "language_info": {
   "codemirror_mode": {
    "name": "ipython",
    "version": 3
   },
   "file_extension": ".py",
   "mimetype": "text/x-python",
   "name": "python",
   "nbconvert_exporter": "python",
   "pygments_lexer": "ipython3",
   "version": "3.11.8"
  }
 },
 "nbformat": 4,
 "nbformat_minor": 5
}

{
 "cells": [
  {
   "cell_type": "markdown",
   "metadata": {},
   "source": [
    "# All cells\n",
    "## Xiaonan Wang\n",
    "## 17July2024"
   ]
  },
  {
   "cell_type": "code",
   "execution_count": null,
   "metadata": {},
   "outputs": [],
   "source": [
    "import numpy as np\n",
    "import pandas as pd\n",
    "import scanpy as sc\n",
    "#from matplotlib_venn import venn2\n",
    "#from matplotlib_venn import venn3\n",
    "from matplotlib.colors import LinearSegmentedColormap\n",
    "import matplotlib.pyplot as plt\n",
    "from functools import reduce\n",
    "import seaborn as sns\n",
    "\n",
    "cmap = LinearSegmentedColormap.from_list(name='gene_cmap', colors=['lightgrey', 'thistle', 'red', 'darkred']) \n",
    "\n",
    "sc.settings.verbosity = 3  # verbosity: errors (0), warnings (1), info (2), hints (3)\n",
    "sc.settings.set_figure_params(dpi=80, color_map='viridis')"
   ]
  },
  {
   "cell_type": "code",
   "execution_count": null,
   "metadata": {},
   "outputs": [],
   "source": [
    "plt.rcParams[\"figure.figsize\"] = (5,4.5)"
   ]
  },
  {
   "cell_type": "code",
   "execution_count": null,
   "metadata": {},
   "outputs": [],
   "source": [
    "def expPlotFun(adata, group = 'Study', color='louvain_rd10', vmin=None, vmax=None, size=50):\n",
    "    if vmax is None:\n",
    "        if color in adata.raw.var_names:\n",
    "            vmax = np.max(adata.raw[:,color].X)\n",
    "    if vmin is None:\n",
    "        vmin = 0\n",
    "        \n",
    "    gs = adata.obs[group].cat.categories\n",
    "    \n",
    "    ng = len(gs)+1\n",
    "    fig,ax = plt.subplots(1,ng, figsize=(5*ng,4.5), sharex=True, sharey=True)\n",
    "    \n",
    "    ax1=sc.pl.umap(adata ,ax=ax[0], legend_loc=\"on data\", color=color, show=False, size=size, color_map=cmap, vmin=vmin, vmax=vmax, legend_fontsize=15)\n",
    "    for i in range(len(gs)):\n",
    "        ax2=sc.pl.umap(adata[adata.obs[group]==gs[i],:], title=gs[i],ax=ax[i+1], legend_loc=\"on data\", vmin=vmin, vmax=vmax, color=color, show=False, size=size, color_map=cmap, legend_fontsize=15)\n",
    "    fig.tight_layout()"
   ]
  },
  {
   "cell_type": "code",
   "execution_count": null,
   "metadata": {},
   "outputs": [],
   "source": [
    "def barplot_fun(adata, con1, con2, plot=True):\n",
    "    t1 = pd.crosstab(adata.obs[con1], adata.obs[con2],dropna =False)\n",
    "    t1 = t1.div(t1.sum(axis=0),axis=1)*10000\n",
    "    t1_per = t1.div(t1.sum(axis=1),axis=0)*100\n",
    "    \n",
    "    if (plot==True):\n",
    "        fig, ax = plt.subplots(nrows=1, ncols=2,figsize=(12,4))\n",
    "        t1.plot.bar(edgecolor=\"black\", ax=ax[0])\n",
    "        ax[0].legend(loc='center left', bbox_to_anchor=(1.0, 0.5))\n",
    "        ax[0].set_ylabel('normalised # of cells')\n",
    "        ax[0].grid()\n",
    "        t1_per.plot.bar(stacked=True, edgecolor=\"black\", ax=ax[1])\n",
    "        ax[1].legend(loc='center left', bbox_to_anchor=(1.0, 0.5))\n",
    "        ax[1].set_ylabel('% in each cluster')\n",
    "        ax[1].grid()\n",
    "        fig.tight_layout()\n",
    "    return t1_per"
   ]
  },
  {
   "cell_type": "code",
   "execution_count": null,
   "metadata": {},
   "outputs": [],
   "source": [
    "adata = sc.read('/home/xw251/rds/rds-bg200-hphi-gottgens/users/xw251/From_lila_single_cell/Zebrafish/New_Batch_Analysis_v2/write/Final_allcells_norm_afterQC.h5ad')"
   ]
  },
  {
   "cell_type": "markdown",
   "metadata": {},
   "source": [
    "## Read in Counts"
   ]
  },
  {
   "cell_type": "code",
   "execution_count": null,
   "metadata": {},
   "outputs": [],
   "source": [
    "path = '/servers/lila-single-cell/Xiaonan/Zebrafish/NewData/181011_K00198_0353_BH2GVLBBXY/REX/WTCHG_587680_45/outs/raw_gene_bc_matrices/GRCz11/'\n",
    "adata45 = sc.read(path + 'matrix.mtx', cache=True).T  # transpose the data\n",
    "adata45.var_names = pd.read_csv(path + 'genes.tsv', header=None, sep='\\t')[1]\n",
    "adata45.obs_names = pd.read_csv(path + 'barcodes.tsv', header=None)[0]\n",
    "adata45.var_names_make_unique()\n",
    "adata45.obs['Study'] = [\"WT\"]*len(adata45.obs_names)\n",
    "path = '/servers/lila-single-cell/Xiaonan/Zebrafish/NewData/181011_K00198_0353_BH2GVLBBXY/REX/WTCHG_587680_46/outs/raw_gene_bc_matrices/GRCz11/'\n",
    "adata46 = sc.read(path + 'matrix.mtx', cache=True).T  # transpose the data\n",
    "adata46.var_names = pd.read_csv(path + 'genes.tsv', header=None, sep='\\t')[1]\n",
    "adata46.obs_names = pd.read_csv(path + 'barcodes.tsv', header=None)[0]\n",
    "adata46.var_names_make_unique()\n",
    "adata46.obs['Study'] = [\"Injured\"]*len(adata46.obs_names)\n",
    "path = '/servers/lila-single-cell/Xiaonan/Zebrafish/NewData/181011_K00198_0353_BH2GVLBBXY/REX/WTCHG_587680_47/outs/raw_gene_bc_matrices/GRCz11/'\n",
    "adata47 = sc.read(path + 'matrix.mtx', cache=True).T  # transpose the data\n",
    "adata47.var_names = pd.read_csv(path + 'genes.tsv', header=None, sep='\\t')[1]\n",
    "adata47.obs_names = pd.read_csv(path + 'barcodes.tsv', header=None)[0]\n",
    "adata47.var_names_make_unique()\n",
    "adata47.obs['Study'] = [\"Injured_Runx1_KO\"]*len(adata47.obs_names)"
   ]
  },
  {
   "cell_type": "code",
   "execution_count": null,
   "metadata": {},
   "outputs": [],
   "source": [
    "adata = adata45.concatenate(adata46, adata47)\n",
    "print(adata.shape)"
   ]
  },
  {
   "cell_type": "code",
   "execution_count": null,
   "metadata": {},
   "outputs": [],
   "source": [
    "adata.obs['Study'] = adata.obs['Study'].astype('category')\n",
    "adata.obs['Study'] = adata.obs['Study'].cat.reorder_categories(['WT', 'Injured', 'Injured_Runx1_KO'])"
   ]
  },
  {
   "cell_type": "code",
   "execution_count": null,
   "metadata": {},
   "outputs": [],
   "source": [
    "adata.obs['n_genes_total'] = np.sum(adata.X>0, axis=1)\n",
    "adata.obs['n_counts_total'] = adata.X.sum(axis=1).A1"
   ]
  },
  {
   "cell_type": "code",
   "execution_count": null,
   "metadata": {},
   "outputs": [],
   "source": [
    "fig, ax = plt.subplots(nrows=1, ncols=2, figsize=(10, 4))\n",
    "sns.kdeplot(adata.obs['n_genes_total'],bw = 0.05, ax=ax[0])\n",
    "ax[0].axvline(x=100, color='red')\n",
    "sns.kdeplot(adata.obs['n_counts_total'],bw =0.05, ax=ax[1])\n",
    "ax=ax[1].axvline(x=2000, color='red')\n",
    "plt.tight_layout()"
   ]
  },
  {
   "cell_type": "code",
   "execution_count": null,
   "metadata": {},
   "outputs": [],
   "source": [
    "sc.pp.filter_cells(adata, min_genes=100)\n",
    "print(adata.shape)"
   ]
  },
  {
   "cell_type": "code",
   "execution_count": null,
   "metadata": {},
   "outputs": [],
   "source": [
    "adata.obs['Study'].value_counts()"
   ]
  },
  {
   "cell_type": "markdown",
   "metadata": {},
   "source": [
    "## Doublet Removal"
   ]
  },
  {
   "cell_type": "markdown",
   "metadata": {},
   "source": [
    "The code here will not run as scrublet involves random sampling. Thus, the results will be similar but not the same as what we used."
   ]
  },
  {
   "cell_type": "code",
   "execution_count": null,
   "metadata": {
    "collapsed": true,
    "jupyter": {
     "outputs_hidden": true
    }
   },
   "outputs": [],
   "source": [
    "# import scrublet as scr\n",
    "# db_scores = []\n",
    "# predicted_db = []\n",
    "# Study_unique = ['WT', 'Injured', 'Injured_Runx1_KO']\n",
    "# Cell_index = np.array([])\n",
    "# for i in Study_unique:\n",
    "#     scrub = scr.Scrublet(adata[adata.obs['Study']==i,:].X)\n",
    "#     doublet_scores, predicted_doublets = scrub.scrub_doublets()\n",
    "#     db_scores.append(doublet_scores)\n",
    "#     predicted_db.append(predicted_doublets)\n",
    "#     Cell_index = np.append(Cell_index, adata[adata.obs['Study']==i,:].obs_names)\n",
    "    \n",
    "# db_scores_all = np.concatenate(db_scores)\n",
    "# adata = adata[Cell_index,:]\n",
    "# adata.obs['doublet_scores'] = db_scores_all\n",
    "\n",
    "# fig, ax = plt.subplots(nrows=1, ncols=3, figsize=(14, 4))\n",
    "# thres = [0.3, 0.27, 0.38]\n",
    "# for i in range(len(Study_unique)):\n",
    "#     pd.DataFrame(db_scores[i]).plot.hist(bins=100, ax=ax[i])\n",
    "#     ax[i].axvline(x=thres[i], color='b')\n",
    "#     ax[i].set_title(Study_unique[i])\n",
    "#     ax[i].get_legend().remove()\n",
    "# plt.tight_layout()\n",
    "\n",
    "# Cells_passed = np.array([])\n",
    "# for i in range(len(Study_unique)):\n",
    "#     newD = adata[adata.obs['Study']==Study_unique[i],:].obs_names\n",
    "#     cells = newD[db_scores[i] < thres[i]]\n",
    "#     print(Study_unique[i]+':'+str(len(cells)))\n",
    "#     Cells_passed = np.append(Cells_passed, cells)"
   ]
  },
  {
   "cell_type": "code",
   "execution_count": null,
   "metadata": {},
   "outputs": [],
   "source": [
    "# read in the previous saved scrublet results.\n",
    "Cells_passed = np.genfromtxt('/servers/lila-single-cell/Xiaonan/Zebrafish/New_Batch_Analysis1/passed_CN.txt', dtype=str)"
   ]
  },
  {
   "cell_type": "code",
   "execution_count": null,
   "metadata": {},
   "outputs": [],
   "source": [
    "adata = adata[Cells_passed, :]"
   ]
  },
  {
   "cell_type": "code",
   "execution_count": null,
   "metadata": {},
   "outputs": [],
   "source": [
    "print(adata.shape)"
   ]
  },
  {
   "cell_type": "code",
   "execution_count": null,
   "metadata": {},
   "outputs": [],
   "source": [
    "adata.obs['Study'].value_counts()"
   ]
  },
  {
   "cell_type": "markdown",
   "metadata": {},
   "source": [
    "## Further QC"
   ]
  },
  {
   "cell_type": "code",
   "execution_count": null,
   "metadata": {},
   "outputs": [],
   "source": [
    "sc.pp.filter_genes(adata, min_counts=1)"
   ]
  },
  {
   "cell_type": "code",
   "execution_count": null,
   "metadata": {},
   "outputs": [],
   "source": [
    "print(adata.shape)"
   ]
  },
  {
   "cell_type": "code",
   "execution_count": null,
   "metadata": {},
   "outputs": [],
   "source": [
    "mito_genes = [name for name in adata.var_names if name.startswith('mt-')]\n",
    "# for each cell compute fraction of counts in mito genes vs. all genes\n",
    "# the `.A1` is only necessary, as X is sparse - it transform to a dense array after summing\n",
    "adata.obs['percent_mito'] = np.sum(\n",
    "    adata[:, mito_genes].X, axis=1).A1 / np.sum(adata.X, axis=1).A1\n",
    "# add the total counts per cell as observations-annotation to adata\n",
    "adata.obs['n_counts'] = adata.X.sum(axis=1).A1"
   ]
  },
  {
   "cell_type": "code",
   "execution_count": null,
   "metadata": {},
   "outputs": [],
   "source": [
    "sc.pl.violin(adata, ['n_genes', 'n_counts', 'percent_mito'],\n",
    "             jitter=0.4, multi_panel=True)"
   ]
  },
  {
   "cell_type": "markdown",
   "metadata": {},
   "source": [
    "Temporarily store the raw data as this is needed for quatifying marker genes."
   ]
  },
  {
   "cell_type": "code",
   "execution_count": null,
   "metadata": {},
   "outputs": [],
   "source": [
    "adata.raw = sc.pp.log1p(adata, copy=True)"
   ]
  },
  {
   "cell_type": "markdown",
   "metadata": {},
   "source": [
    "## Find highly variable genes"
   ]
  },
  {
   "cell_type": "code",
   "execution_count": null,
   "metadata": {},
   "outputs": [],
   "source": [
    "sc.pp.normalize_per_cell(adata, counts_per_cell_after=10000)"
   ]
  },
  {
   "cell_type": "code",
   "execution_count": null,
   "metadata": {},
   "outputs": [],
   "source": [
    "filter_result = sc.pp.filter_genes_dispersion(\n",
    "    adata.X, min_mean=0.0125, max_mean=4, min_disp=0.5)\n",
    "print(sum(filter_result.gene_subset))\n",
    "sc.pl.filter_genes_dispersion(filter_result)"
   ]
  },
  {
   "cell_type": "code",
   "execution_count": null,
   "metadata": {},
   "outputs": [],
   "source": [
    "adata = adata[:, filter_result.gene_subset].copy()"
   ]
  },
  {
   "cell_type": "code",
   "execution_count": null,
   "metadata": {},
   "outputs": [],
   "source": [
    "sc.pp.log1p(adata)"
   ]
  },
  {
   "cell_type": "code",
   "execution_count": null,
   "metadata": {},
   "outputs": [],
   "source": [
    "sc.pp.regress_out(adata, ['n_counts', 'percent_mito'])"
   ]
  },
  {
   "cell_type": "code",
   "execution_count": null,
   "metadata": {},
   "outputs": [],
   "source": [
    "sc.pp.scale(adata)"
   ]
  },
  {
   "cell_type": "markdown",
   "metadata": {},
   "source": [
    "## Add in the vector information"
   ]
  },
  {
   "cell_type": "markdown",
   "metadata": {},
   "source": [
    "The raw reads were aligned with the annotation with vector information involved and the vector informaiton was extracted"
   ]
  },
  {
   "cell_type": "code",
   "execution_count": null,
   "metadata": {},
   "outputs": [],
   "source": [
    "path = '/servers/lila-single-cell/Xiaonan/Zebrafish/NewData/Cellranger_run1/587680_45-REX/outs/raw_gene_bc_matrices/Zebrafish_mCherry_Citrine/'\n",
    "markerD45 = sc.read(path + 'matrix.mtx', cache=True).T  # transpose the data\n",
    "markerD45.var_names = pd.read_csv(path + 'genes.tsv', header=None, sep='\\t')[1]\n",
    "markerD45.obs_names = pd.read_csv(path + 'barcodes.tsv', header=None)[0]\n",
    "markerD45.var_names_make_unique()\n",
    "path = '/servers/lila-single-cell/Xiaonan/Zebrafish/NewData/Cellranger_run1/587680_46-REX/outs/raw_gene_bc_matrices/Zebrafish_mCherry_Citrine/'\n",
    "markerD46 = sc.read(path + 'matrix.mtx', cache=True).T  # transpose the data\n",
    "markerD46.var_names = pd.read_csv(path + 'genes.tsv', header=None, sep='\\t')[1]\n",
    "markerD46.obs_names = pd.read_csv(path + 'barcodes.tsv', header=None)[0]\n",
    "markerD46.var_names_make_unique()\n",
    "path = '/servers/lila-single-cell/Xiaonan/Zebrafish/NewData/Cellranger_run1/587680_47-REX/outs/raw_gene_bc_matrices/Zebrafish_mCherry_Citrine/'\n",
    "markerD47 = sc.read(path + 'matrix.mtx', cache=True).T  # transpose the data\n",
    "markerD47.var_names = pd.read_csv(path + 'genes.tsv', header=None, sep='\\t')[1]\n",
    "markerD47.obs_names = pd.read_csv(path + 'barcodes.tsv', header=None)[0]\n",
    "markerD47.var_names_make_unique()"
   ]
  },
  {
   "cell_type": "code",
   "execution_count": null,
   "metadata": {},
   "outputs": [],
   "source": [
    "markerD = markerD45.concatenate(markerD46, markerD47)\n",
    "marker_index = [x for x in markerD.var_names if 'mCherry' in x or 'Citrine' in x ]\n",
    "markerD = markerD[:, marker_index]\n",
    "print(markerD.X.shape)\n",
    "print(markerD.var_names)"
   ]
  },
  {
   "cell_type": "code",
   "execution_count": null,
   "metadata": {},
   "outputs": [],
   "source": [
    "mchr = markerD[markerD[:,'mCherry'].X>0,:].obs_names\n",
    "mchr_pb = markerD[markerD[:,'mCherry-plasmid-backbone'].X>0,:].obs_names\n",
    "mchr_pa = markerD[markerD[:,'mCherry-polyA'].X>0,:].obs_names\n",
    "cit = markerD[markerD[:,'Citrine'].X>0,:].obs_names\n",
    "cit_pa = markerD[markerD[:,'Citrine-polyA'].X>0,:].obs_names\n",
    "cit_pb = markerD[markerD[:,'Citrine-Remaining'].X>0,:].obs_names"
   ]
  },
  {
   "cell_type": "code",
   "execution_count": null,
   "metadata": {},
   "outputs": [],
   "source": [
    "mchr_overlap = reduce(np.union1d, (mchr,mchr_pb,mchr_pa))\n",
    "cit_overlap = reduce(np.union1d, (cit,cit_pa,cit_pb))\n",
    "print('mCherry cells: ', str(len(mchr_overlap)))\n",
    "print('Citrine cells: ', str(len(cit_overlap)))"
   ]
  },
  {
   "cell_type": "markdown",
   "metadata": {},
   "source": [
    "Now we define cit, mChr, cit_mChr, kdrl, runx1, kdrl_mchr, runx1_cit and eventually DBpos cells."
   ]
  },
  {
   "cell_type": "code",
   "execution_count": null,
   "metadata": {},
   "outputs": [],
   "source": [
    "adata.obs['cit'] = np.in1d(adata.obs_names, cit_overlap)*1\n",
    "adata.obs['mChr'] = np.in1d(adata.obs_names, mchr_overlap)*1\n",
    "adata.obs['cit_mChr'] = np.in1d(adata.obs_names, np.intersect1d(cit_overlap, mchr_overlap))*1\n",
    "adata.obs['kdrl_exp'] = (adata.raw[:,'kdrl'].X > 0)*1\n",
    "adata.obs['runx1_exp'] = (adata.raw[:,'runx1'].X > 0)*1\n",
    "adata.obs['kdrl_mchr'] = ((adata.obs['kdrl_exp']==1) | (adata.obs['mChr']==1))*1\n",
    "adata.obs['runx1_cit'] = ((adata.obs['runx1_exp']==1) | (adata.obs['cit']==1))*1\n",
    "adata.obs['DBpos'] = ((adata.obs['kdrl_mchr']==1) & (adata.obs['runx1_cit']==1))*1"
   ]
  },
  {
   "cell_type": "code",
   "execution_count": null,
   "metadata": {},
   "outputs": [],
   "source": [
    "print(adata.obs_keys())"
   ]
  },
  {
   "cell_type": "code",
   "execution_count": null,
   "metadata": {},
   "outputs": [],
   "source": [
    "keys2change = adata.obs_keys()[7:16]"
   ]
  },
  {
   "cell_type": "code",
   "execution_count": null,
   "metadata": {},
   "outputs": [],
   "source": [
    "print(keys2change)"
   ]
  },
  {
   "cell_type": "code",
   "execution_count": null,
   "metadata": {},
   "outputs": [],
   "source": [
    "for i in keys2change:\n",
    "    if 'DBpos' in i:\n",
    "        newK = ['Double+', 'Double-']\n",
    "    else:\n",
    "        newK = [i+'+', i+'-']\n",
    "    newObs = [newK[0] if x==1 else newK[1] for x in adata.obs[i]]\n",
    "    adata.obs[i] = newObs\n",
    "    print(adata.obs[i].value_counts())\n",
    "    adata.obs[i] = adata.obs[i].astype('category')"
   ]
  },
  {
   "cell_type": "markdown",
   "metadata": {},
   "source": [
    "## Dimensionality Reduction"
   ]
  },
  {
   "cell_type": "code",
   "execution_count": null,
   "metadata": {},
   "outputs": [],
   "source": [
    "sc.tl.pca(adata)"
   ]
  },
  {
   "cell_type": "code",
   "execution_count": null,
   "metadata": {
    "collapsed": true,
    "jupyter": {
     "outputs_hidden": true
    }
   },
   "outputs": [],
   "source": [
    "#np.savetxt('/servers/lila-single-cell/Xiaonan/Zebrafish/New_Batch_Analysis_v2/PCA_co_all.txt', adata.obsm['X_pca'], delimiter='\\t')"
   ]
  },
  {
   "cell_type": "code",
   "execution_count": null,
   "metadata": {},
   "outputs": [],
   "source": [
    "adata.obsm['X_pca'] = np.genfromtxt('/servers/lila-single-cell/Xiaonan/Zebrafish/New_Batch_Analysis_v2/PCA_co_all.txt', delimiter='\\t')"
   ]
  },
  {
   "cell_type": "code",
   "execution_count": null,
   "metadata": {},
   "outputs": [],
   "source": [
    "sc.pl.pca_variance_ratio(adata, log=True)"
   ]
  },
  {
   "cell_type": "code",
   "execution_count": null,
   "metadata": {},
   "outputs": [],
   "source": [
    "sc.tl.tsne(adata)"
   ]
  },
  {
   "cell_type": "code",
   "execution_count": null,
   "metadata": {},
   "outputs": [],
   "source": [
    "sc.pp.neighbors(adata, n_neighbors=10)"
   ]
  },
  {
   "cell_type": "code",
   "execution_count": null,
   "metadata": {},
   "outputs": [],
   "source": [
    "sc.tl.umap(adata)"
   ]
  },
  {
   "cell_type": "code",
   "execution_count": null,
   "metadata": {
    "collapsed": true,
    "jupyter": {
     "outputs_hidden": true
    }
   },
   "outputs": [],
   "source": [
    "#np.savetxt('/servers/lila-single-cell/Xiaonan/Zebrafish/New_Batch_Analysis_v2/UMAP_co_all.txt', adata.obsm['X_umap'], delimiter='\\t')"
   ]
  },
  {
   "cell_type": "code",
   "execution_count": null,
   "metadata": {},
   "outputs": [],
   "source": [
    "adata.obsm['X_umap'] = np.genfromtxt('/servers/lila-single-cell/Xiaonan/Zebrafish/New_Batch_Analysis_v2/UMAP_co_all.txt', delimiter='\\t')"
   ]
  },
  {
   "cell_type": "code",
   "execution_count": null,
   "metadata": {},
   "outputs": [],
   "source": [
    "sc.tl.draw_graph(adata, maxiter=100)"
   ]
  },
  {
   "cell_type": "markdown",
   "metadata": {},
   "source": [
    "## Louvain clustering"
   ]
  },
  {
   "cell_type": "code",
   "execution_count": null,
   "metadata": {},
   "outputs": [],
   "source": [
    "sc.tl.louvain(adata, resolution = 1, random_state=0,key_added='louvain_rd10')"
   ]
  },
  {
   "cell_type": "code",
   "execution_count": null,
   "metadata": {},
   "outputs": [],
   "source": [
    "sc.pl.umap(adata, color=['louvain_rd10'], legend_loc=\"on data\", size=50, color_map=cmap)"
   ]
  },
  {
   "cell_type": "code",
   "execution_count": null,
   "metadata": {},
   "outputs": [],
   "source": [
    "Lold = adata.obs['louvain_rd10'].astype('category')\n",
    "Lold_lv = Lold.cat.categories\n",
    "print(Lold_lv)"
   ]
  },
  {
   "cell_type": "code",
   "execution_count": null,
   "metadata": {
    "collapsed": true,
    "jupyter": {
     "outputs_hidden": true
    }
   },
   "outputs": [],
   "source": [
    "Lnew_lv = ['3', '25', '19', '2', '8', '4', '1', '24', '15', '23', '7', '0', '17',\n",
    "       '22', '21', '10', '13', '11', '26', '14', '5', '18', '20', '12', '16',\n",
    "       '9', '6']\n",
    "adata.obs['louvain_rd10'] = Lold.cat.rename_categories(Lnew_lv)\n",
    "adata.obs['louvain_rd10'] = adata.obs['louvain_rd10'].cat.reorder_categories(Lold_lv)"
   ]
  },
  {
   "cell_type": "code",
   "execution_count": null,
   "metadata": {
    "collapsed": true,
    "jupyter": {
     "outputs_hidden": true
    }
   },
   "outputs": [],
   "source": [
    "lv = ['0', '1', '2', '3', '4', '5', '6', \n",
    "      '7', '8', '9', '10', \n",
    "      '11', \n",
    "      '12','13',\n",
    "      '14', '15','16', \n",
    "      '17', '18', \n",
    "      '19', '20', '21', '22', '23', \n",
    "      '24','25', \n",
    "      '26'\n",
    "]"
   ]
  },
  {
   "cell_type": "code",
   "execution_count": null,
   "metadata": {
    "collapsed": true,
    "jupyter": {
     "outputs_hidden": true
    }
   },
   "outputs": [],
   "source": [
    "adata.uns['louvain_rd10_colors'] = [\n",
    "    '#0B5345', '#15AB0F', '#63D95E', '#1D8348','#4BB80C', '#52BE80', '#1EF861', \n",
    "    '#D4E95E', '#8CA11C', '#7B8003', '#444604',\n",
    "    '#5175FB', \n",
    "    '#58DDF5', '#2190A4', \n",
    "    '#A42DE9', '#7015EB', '#ABB7FF',\n",
    "    '#F22BA2', '#EC7DBF',\n",
    "    '#CC3D6E', '#FCC176', '#FFADAB', '#A93226', '#FD1901',\n",
    "    '#FF5733', '#ff9900',\n",
    "    '#C0C0C0'    \n",
    "]"
   ]
  },
  {
   "cell_type": "code",
   "execution_count": null,
   "metadata": {},
   "outputs": [],
   "source": [
    "sc.pl.umap(adata, color='louvain_rd10', legend_loc=\"on data\", size=50, color_map=cmap)"
   ]
  },
  {
   "cell_type": "markdown",
   "metadata": {},
   "source": [
    "## Further analysis"
   ]
  },
  {
   "cell_type": "markdown",
   "metadata": {},
   "source": [
    "Calculate proportion of each cluster in each sample."
   ]
  },
  {
   "cell_type": "code",
   "execution_count": null,
   "metadata": {},
   "outputs": [],
   "source": [
    "barplot_fun(adata, 'louvain_rd10', 'Study')"
   ]
  },
  {
   "cell_type": "code",
   "execution_count": null,
   "metadata": {
    "collapsed": true,
    "jupyter": {
     "outputs_hidden": true
    }
   },
   "outputs": [],
   "source": [
    "adata.write('/servers/lila-single-cell/Xiaonan/Zebrafish/New_Batch_Analysis_v2/write/Final_allcells_raw_afterQC.h5ad')"
   ]
  },
  {
   "cell_type": "markdown",
   "metadata": {},
   "source": [
    "Separated by samples."
   ]
  },
  {
   "cell_type": "code",
   "execution_count": null,
   "metadata": {},
   "outputs": [],
   "source": [
    "expPlotFun(adata, group='Study', color='louvain_rd10')"
   ]
  },
  {
   "cell_type": "markdown",
   "metadata": {},
   "source": [
    "Separated by kdrl/mchr."
   ]
  },
  {
   "cell_type": "code",
   "execution_count": null,
   "metadata": {},
   "outputs": [],
   "source": [
    "expPlotFun(adata, group='kdrl_mchr', color='louvain_rd10')"
   ]
  },
  {
   "cell_type": "markdown",
   "metadata": {},
   "source": [
    "Separated by runx1/cit."
   ]
  },
  {
   "cell_type": "code",
   "execution_count": null,
   "metadata": {},
   "outputs": [],
   "source": [
    "expPlotFun(adata, group='runx1_cit', color='louvain_rd10')"
   ]
  },
  {
   "cell_type": "markdown",
   "metadata": {},
   "source": [
    "Separated by DBpos."
   ]
  },
  {
   "cell_type": "code",
   "execution_count": null,
   "metadata": {},
   "outputs": [],
   "source": [
    "expPlotFun(adata, group='DBpos', color='louvain_rd10')"
   ]
  },
  {
   "cell_type": "markdown",
   "metadata": {},
   "source": [
    "## Find Marker Genes"
   ]
  },
  {
   "cell_type": "code",
   "execution_count": null,
   "metadata": {},
   "outputs": [],
   "source": [
    "sc.tl.rank_genes_groups(adata, 'louvain_rd10', n_genes=adata.raw.X.shape[1], key_added='DE_cluster')"
   ]
  },
  {
   "cell_type": "code",
   "execution_count": null,
   "metadata": {},
   "outputs": [],
   "source": [
    "adata = sc.read('./write/Final_allcells_norm_afterQC.h5ad')"
   ]
  },
  {
   "cell_type": "code",
   "execution_count": null,
   "metadata": {},
   "outputs": [],
   "source": [
    "cl_unique = np.unique(adata.obs['louvain_rd10'])\n",
    "for cl in cl_unique:\n",
    "    print('Cluster Number: '+str(cl))\n",
    "    cl = str(cl)\n",
    "    DFprint = np.vstack([adata.uns['DE_cluster']['names'][cl],adata.uns['DE_cluster']['scores'][cl],adata.uns['DE_cluster']['logfoldchanges'][cl],adata.uns['DE_cluster']['pvals'][cl],adata.uns['DE_cluster']['pvals_adj'][cl]]).T\n",
    "    DF = pd.DataFrame(DFprint, columns=['names', 'scores', 'logfoldchanges', 'pvals','pvals_adj'])\n",
    "    DF.to_csv('./DEres/louvain_all/c'+str(cl)+'.csv')"
   ]
  },
  {
   "cell_type": "code",
   "execution_count": null,
   "metadata": {},
   "outputs": [],
   "source": [
    "adata.obs['Study'].value_counts()"
   ]
  },
  {
   "cell_type": "markdown",
   "metadata": {},
   "source": [
    "Plot key marker genes for each cluster."
   ]
  },
  {
   "cell_type": "code",
   "execution_count": null,
   "metadata": {
    "collapsed": true,
    "jupyter": {
     "outputs_hidden": true
    }
   },
   "outputs": [],
   "source": [
    "geneIDs = ['foxc1a','flt1', 'kdrl', #0-6 endothelial/endocardial cells\n",
    "           'epcam', 'txn', #7 epitheial-like cells\n",
    "           'tcf21','tbx18', 'col1a1a', #8 epicardial cells/fibroblasts\n",
    "           'angptl7', #9 valve cells\n",
    "           'tagln', #10 myofroblasts/smooth muscle\n",
    "           'myl7','nkx2.5', #11 cardiomyocytes\n",
    "           'fgfbp2b','cnmd', #12 fibrocytes\n",
    "           'lect2l','lyz', #13 neutrophils\n",
    "           'cd74a','cd9b', #14-16 monocyte derived macrophages\n",
    "           'ccr9a','sla2', #17 lymophocytes/naive T-cells\n",
    "           'il4','il13', #18 naive T-cells\n",
    "           'gata2b','myb', # 19\n",
    "           'stmn1a', 'cdk1', #20 cellular division of hematopoietic cells\n",
    "           'lmo2','tal1', #19-21 HSCs\n",
    "           'hbba1','hbaa1', #22-23 erythrocyts\n",
    "           'apln','itga2b'#,  #24-25 thrombocytes          \n",
    "          ]"
   ]
  },
  {
   "cell_type": "code",
   "execution_count": null,
   "metadata": {},
   "outputs": [],
   "source": [
    "sc.pl.umap(adata, color=geneIDs, legend_loc=\"on data\", size=50, color_map=cmap)"
   ]
  },
  {
   "cell_type": "code",
   "execution_count": null,
   "metadata": {
    "collapsed": true,
    "jupyter": {
     "outputs_hidden": true
    }
   },
   "outputs": [],
   "source": [
    "adata.write('/servers/lila-single-cell/Xiaonan/Zebrafish/New_Batch_Analysis_v2/write/Final_allcells_norm_afterQC.h5ad')"
   ]
  },
  {
   "cell_type": "markdown",
   "metadata": {},
   "source": [
    "# Rshiny frontpage plot"
   ]
  },
  {
   "cell_type": "code",
   "execution_count": null,
   "metadata": {},
   "outputs": [],
   "source": [
    "adata = sc.read('./write/Final_allcells_norm_afterQC.h5ad')"
   ]
  },
  {
   "cell_type": "code",
   "execution_count": null,
   "metadata": {},
   "outputs": [],
   "source": [
    "ct = {\n",
    "    '0': 'EC',\n",
    "    '1': 'EC',\n",
    "    '2': 'EC',\n",
    "    '3': 'EC',\n",
    "    '4': 'EC',\n",
    "    '5': 'EC',\n",
    "    '6': 'EC',\n",
    "    '7': 'EPI',\n",
    "    '8': 'Epicardial/\\nFibro',\n",
    "    '9': 'VC',\n",
    "    '10': 'MyoFibro/\\nSMC',\n",
    "    '11': 'CM',\n",
    "    '12': 'F',\n",
    "    '13': 'Neutro',\n",
    "    '14': 'DC',\n",
    "    '15': 'Mono/\\nMacro',\n",
    "    '16': 'Mono',\n",
    "    '17': 'Lympho',\n",
    "    '18': 'Maive T',\n",
    "    '19': 'HSPC',\n",
    "    '20': 'HSPC',\n",
    "    '21': 'HSPC',\n",
    "    '22': 'Erythro',\n",
    "    '23': 'Erythro',\n",
    "    '24': 'Thrombo',\n",
    "    '25': 'Thrombo',\n",
    "    '26': 'Dying'\n",
    "}"
   ]
  },
  {
   "cell_type": "code",
   "execution_count": null,
   "metadata": {},
   "outputs": [],
   "source": [
    "adata.obs['celltype'] = [ct[x] for x in adata.obs['louvain_rd10']]"
   ]
  },
  {
   "cell_type": "code",
   "execution_count": null,
   "metadata": {},
   "outputs": [],
   "source": [
    "mean_co = {}\n",
    "for i in np.unique(adata.obs['celltype']):\n",
    "    idx = adata.obs['celltype'] == i\n",
    "    co = np.median(adata.obsm['X_umap'][idx, :], axis=0)\n",
    "    mean_co[i] = co"
   ]
  },
  {
   "cell_type": "code",
   "execution_count": null,
   "metadata": {},
   "outputs": [],
   "source": [
    "fig, ax = plt.subplots(1,2, figsize=(13,5.5))\n",
    "sc.pl.umap(adata,  color = ['Study'], legend_loc=\"right margin\", s=30, ax=ax[0], show=False, title=\"\")\n",
    "sc.pl.umap(adata,  color = ['louvain_rd10'], legend_loc=\"\", s=30, ax=ax[1], show=False, title=\"\")\n",
    "for i in np.unique(adata.obs['celltype']):\n",
    "    ax[1].text(mean_co[i][0], mean_co[i][1], i,ha='center', va='center', fontweight='bold', fontsize=13)\n",
    "plt.tight_layout()\n",
    "plt.savefig('Rshiny_umap_all.png')"
   ]
  },
  {
   "cell_type": "code",
   "execution_count": null,
   "metadata": {},
   "outputs": [],
   "source": [
    "sc.pl.umap(adata, color=['louvain_rd10', 'celltype'], legend_loc='on data', legend_fontsize='x-small')"
   ]
  },
  {
   "cell_type": "code",
   "execution_count": null,
   "metadata": {},
   "outputs": [],
   "source": [
    "adata.write('./write/all_v1.h5ad')"
   ]
  },
  {
   "cell_type": "code",
   "execution_count": null,
   "metadata": {},
   "outputs": [],
   "source": [
    "adata = sc.read('./write/all_v1.h5ad')"
   ]
  },
  {
   "cell_type": "code",
   "execution_count": null,
   "metadata": {},
   "outputs": [],
   "source": [
    "def add_obs(adata, groups, subgroup, keyName):\n",
    "    idx = [np.in1d(x, subgroup)[0] for x in adata.obs[groups]]\n",
    "    cl = np.array(['others']*adata.shape[0])\n",
    "    cl[idx] = adata.obs[groups][idx]\n",
    "    adata.obs[keyName] = cl\n",
    "    adata.obs[keyName] = adata.obs[keyName].astype('category')\n",
    "    adata.obs[keyName] = adata.obs[keyName].cat.reorder_categories(np.append(np.array(subgroup), 'others'))\n",
    "    col = np.array([adata.uns[groups+'_colors'][int(x)] for x in subgroup])\n",
    "    adata.uns[keyName+'_colors'] = np.append(col, '#d3d3d3')"
   ]
  },
  {
   "cell_type": "code",
   "execution_count": null,
   "metadata": {},
   "outputs": [],
   "source": [
    "add_obs(adata, 'louvain_rd10', ['0', '1', '2','3','4','5','6'], 'cEndo')"
   ]
  },
  {
   "cell_type": "code",
   "execution_count": null,
   "metadata": {},
   "outputs": [],
   "source": [
    "sc.pl.umap(adata, color=['cEndo'], ncols=2, wspace=0.5, legend_loc='right margin', legend_fontsize=15, color_map=cmap)"
   ]
  },
  {
   "cell_type": "code",
   "execution_count": null,
   "metadata": {},
   "outputs": [],
   "source": [
    "cls = {\n",
    "    '0': 'Endo',\n",
    "    '1': 'Endo', \n",
    "    '2': 'Endo', \n",
    "    '3': 'Endo',\n",
    "    '4': 'Endo',\n",
    "    '6': 'Endo'\n",
    "}"
   ]
  },
  {
   "cell_type": "code",
   "execution_count": null,
   "metadata": {},
   "outputs": [],
   "source": [
    "adata.obs['celltype'].cat.categories"
   ]
  },
  {
   "cell_type": "code",
   "execution_count": null,
   "metadata": {},
   "outputs": [],
   "source": [
    "adata.uns['celltype_colors']"
   ]
  },
  {
   "cell_type": "code",
   "execution_count": null,
   "metadata": {},
   "outputs": [],
   "source": [
    "adata.obs['Endo_cells'] = [cls[x] if x in cls.keys() else None for x in adata.obs['louvain_rd10']]"
   ]
  },
  {
   "cell_type": "code",
   "execution_count": null,
   "metadata": {},
   "outputs": [],
   "source": [
    "adata.uns['Endo_cells_colors'] = ['#d62728', '#808080']"
   ]
  },
  {
   "cell_type": "code",
   "execution_count": null,
   "metadata": {},
   "outputs": [],
   "source": [
    "sc.pl.umap(adata, color=['Endo_cells'], legend_loc=None, title='Endothelial Cells', save=\"_celltype_endo.pdf\")"
   ]
  },
  {
   "cell_type": "code",
   "execution_count": null,
   "metadata": {},
   "outputs": [],
   "source": [
    "sc.pl.umap(adata, color = \"pcna\", color_map=cmap)"
   ]
  },
  {
   "cell_type": "code",
   "execution_count": null,
   "metadata": {},
   "outputs": [],
   "source": [
    "study = adata.obs['Study'].cat.categories\n",
    "fig, ax = plt.subplots(1,3, figsize=(12,4), sharex=True, sharey=True)\n",
    "for i in range(len(study)):\n",
    "    sc.pl.umap(adata[adata.obs['Study'] == study[i]], title=study[i], ax = ax[i], show=False, color='celltype', legend_loc='on data', legend_fontsize=\"xx-small\")"
   ]
  },
  {
   "cell_type": "code",
   "execution_count": null,
   "metadata": {},
   "outputs": [],
   "source": [
    "tocol = ['runx1_cit','kdrl_mchr','DBpos']\n",
    "fig, ax = plt.subplots(1,3, figsize=(12,4), sharex=True, sharey=True)\n",
    "for i in range(len(tocol)):\n",
    "    cat = adata.obs[tocol[i]].cat.categories\n",
    "    col = adata.uns['celltype_colors']\n",
    "    catCT = adata.obs['celltype'].cat.categories\n",
    "    adata_sub = adata[adata.obs[tocol[i]] == cat[0]].copy()\n",
    "    catCTnew = adata_sub.obs['celltype'].cat.categories\n",
    "    adata_sub.uns['celltype_colors'] = col[np.in1d(np.array(list(catCT)), np.array(list(catCTnew)))]\n",
    "    sc.pl.umap(adata_sub, color='celltype', s=20,legend_loc='on data', ax=ax[i], show=False, title=tocol[i]+'+',legend_fontsize=\"xx-small\")\n",
    "    del adata_sub"
   ]
  },
  {
   "cell_type": "code",
   "execution_count": null,
   "metadata": {},
   "outputs": [],
   "source": []
  },
  {
   "cell_type": "code",
   "execution_count": null,
   "metadata": {},
   "outputs": [],
   "source": []
  }
 ],
 "metadata": {
  "kernelspec": {
   "display_name": "Scanpy198",
   "language": "python",
   "name": "scanpy198"
  },
  "language_info": {
   "codemirror_mode": {
    "name": "ipython",
    "version": 3
   },
   "file_extension": ".py",
   "mimetype": "text/x-python",
   "name": "python",
   "nbconvert_exporter": "python",
   "pygments_lexer": "ipython3",
   "version": "3.11.9"
  }
 },
 "nbformat": 4,
 "nbformat_minor": 4
}

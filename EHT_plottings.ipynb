{
 "cells": [
  {
   "cell_type": "markdown",
   "id": "f7d190fa-505f-420f-84f0-06291039f16f",
   "metadata": {},
   "source": [
    "# EHT plottings"
   ]
  },
  {
   "cell_type": "code",
   "execution_count": 559,
   "id": "f08b2b1c",
   "metadata": {
    "scrolled": true
   },
   "outputs": [
    {
     "name": "stdout",
     "output_type": "stream",
     "text": [
      "Warning: Cannot change to a different GUI toolkit: nbagg. Using notebook instead.\n",
      "scanpy==1.9.3 anndata==0.8.0 umap==0.5.3 numpy==1.23.4 scipy==1.9.3 pandas==1.5.3 scikit-learn==1.3.2 statsmodels==0.14.0 python-igraph==0.10.4 pynndescent==0.5.8\n"
     ]
    }
   ],
   "source": [
    "%matplotlib nbagg\n",
    "import numpy as np\n",
    "import matplotlib.pyplot as plt\n",
    "import scanpy as sc\n",
    "import pandas as pd\n",
    "from os import listdir\n",
    "from os.path import isfile, join\n",
    "import re\n",
    "import anndata\n",
    "import seaborn as sns\n",
    "\n",
    "plt.rcParams['pdf.fonttype'] = 42\n",
    "plt.rcParams['ps.fonttype'] = 42\n",
    "\n",
    "sc.settings.verbosity = 3  # verbosity: errors (0), warnings (1), info (2), hints (3)\n",
    "sc.logging.print_header()\n",
    "\n",
    "from matplotlib.colors import LinearSegmentedColormap\n",
    "cmap = LinearSegmentedColormap.from_list(name='gene_cmap', colors=['lightgrey', 'thistle', 'red', 'darkred']) \n",
    "\n",
    "sc.settings.set_figure_params(dpi=80, color_map='viridis', vector_friendly=False,  dpi_save=300)"
   ]
  },
  {
   "cell_type": "code",
   "execution_count": 452,
   "id": "cab277c5-ef5f-401a-955f-66ee6b3b5e5e",
   "metadata": {},
   "outputs": [],
   "source": [
    "from matplotlib import font_manager\n",
    "font_manager.fontManager.addfont('/cluster/groups/Wangxiaonan/share/yingjun/arial.ttf')\n",
    "plt.rcParams['font.sans-serif'] = 'Arial'"
   ]
  },
  {
   "cell_type": "markdown",
   "id": "e0f93c7b-b771-4672-894e-ac8d1212b1b7",
   "metadata": {},
   "source": [
    "# Sample ReadIn"
   ]
  },
  {
   "cell_type": "code",
   "execution_count": null,
   "id": "dffc170f-cb05-4f7a-a406-a0cc928789fa",
   "metadata": {},
   "outputs": [],
   "source": [
    "# All cells\n",
    "All_cells = sc.read('./write/All_outer_leidenv2.h5ad') \n",
    "\n",
    "# All wild-type cells without DMSO/IWR/morphine treatment \n",
    "All_wt_filtered = sc.read('./write/All_outer_filtered.h5ad')\n",
    "\n",
    "# Koth et al's data\n",
    "Koth = sc.read('./write/Koth.h5ad')\n",
    "\n",
    "# Wild-type cells in Koth's data\n",
    "Koth_wt = sc.read('./write/Koth_wt.h5ad')\n",
    "\n",
    "# Runx1-Citrine;Kdrl-mCherry double+ cells in Koth's study\n",
    "dbpos = sc.read('./write/dbpos.h5ad')\n",
    "\n",
    "# Double+ wild-type cells in Koth's study\n",
    "dbpos_wt = sc.read('./write/dbpos_wt.h5ad')\n",
    "\n",
    "# EHT clusters (c25)\n",
    "c25 = sc.read('./write/c25.h5ad')\n",
    "\n",
    "# Wild-type cells in EHT clusters\n",
    "c25_wt_filtered = sc.read('./write/c25_wt_filtered.h5ad')\n",
    "\n",
    "# The combination of wild-type: Endocardial cells (0,3,7,30dpi), EHT (0,3,7,30dpi) and the double+cells (0,3dpi)\n",
    "Endo_c25_dbpos_wt = sc.read('./write/Endo_c25_dbpos_wt.h5ad')"
   ]
  },
  {
   "cell_type": "markdown",
   "id": "4bc1fb78-7193-41fb-bb85-edbfa425a6fc",
   "metadata": {},
   "source": [
    "# Figure 1"
   ]
  },
  {
   "cell_type": "code",
   "execution_count": null,
   "id": "0c5c4e55-4553-4269-844d-d1141aa834b0",
   "metadata": {},
   "outputs": [],
   "source": [
    "sc.pl.umap(All_wt_filtered,color='CT_new1',size=3,save='1D.pdf')"
   ]
  },
  {
   "cell_type": "code",
   "execution_count": null,
   "id": "ab684625-7124-436e-aba6-0e6e9260da95",
   "metadata": {},
   "outputs": [],
   "source": [
    "sc.pl.umap(Koth_wt[Koth_wt.obs.Condition=='Healthy'],color='dbpos_CTnew1',size=20,save='1E-1.pdf')"
   ]
  },
  {
   "cell_type": "code",
   "execution_count": null,
   "id": "e6075688-4e31-4c8a-83c8-e63e3de9e179",
   "metadata": {},
   "outputs": [],
   "source": [
    "sc.pl.umap(Koth_wt[Koth_wt.obs.Condition=='Injured'],color='dbpos_CTnew1',size=20,save='1E-2.pdf')"
   ]
  },
  {
   "cell_type": "code",
   "execution_count": null,
   "id": "b2f2c391-6bb9-47cc-9784-fd5394349cba",
   "metadata": {},
   "outputs": [],
   "source": [
    "ls1F = ['pcna','itga2b','myb','myh11a','tcf21','col1a1b','kdrl']"
   ]
  },
  {
   "cell_type": "code",
   "execution_count": null,
   "id": "4042dc9e-639f-47ef-8a04-9e852644a9c3",
   "metadata": {},
   "outputs": [],
   "source": [
    "sc.pl.dotplot(Koth_wt[Koth_wt.obs.Condition=='Injured'],groupby='dbpos_CTnew1',var_names=ls1F,dot_max=1,\n",
    "                    standard_scale='var',save='1F.pdf')"
   ]
  },
  {
   "cell_type": "code",
   "execution_count": null,
   "id": "f348eadd-960c-4b9f-b29c-d8d4d4208952",
   "metadata": {},
   "outputs": [],
   "source": [
    "sc.pl.umap(All_wt_filtered,color='pcna',size=3,save='1G.pdf',cmap=cmap)"
   ]
  },
  {
   "cell_type": "markdown",
   "id": "f2d847f0-fe3a-4f19-bd65-09ec09f7c591",
   "metadata": {},
   "source": [
    "# Figure 2"
   ]
  },
  {
   "cell_type": "code",
   "execution_count": null,
   "id": "451e54c1-a24e-48d3-a8f4-216f418d86f3",
   "metadata": {},
   "outputs": [],
   "source": [
    "sc.pl.umap(All_wt_filtered,color='CT_Final',size=3,save='2A.pdf')"
   ]
  },
  {
   "cell_type": "code",
   "execution_count": null,
   "id": "ff161428-33f9-480a-a5c8-133557687354",
   "metadata": {},
   "outputs": [],
   "source": [
    "sc.pl.umap(c25_wt_filtered,color='EHT',size=50,save='2B.pdf')"
   ]
  },
  {
   "cell_type": "code",
   "execution_count": null,
   "id": "22aacf52-8bce-4403-94f8-5f84d160ff2f",
   "metadata": {},
   "outputs": [],
   "source": [
    "ls2D = ['kdrl','cdh5','notch1b','gata2a','lmo2','runx1','myb','coro1a','fil1a','aldh1a2','her6','tal1','pcna','gata2b','spi1b','cxcr4b','mmp9','mpeg1.1','sla2','hemgn']"
   ]
  },
  {
   "cell_type": "code",
   "execution_count": null,
   "id": "dbd79f7f-ecbd-4298-8589-9629e4fa6a03",
   "metadata": {},
   "outputs": [],
   "source": [
    "for gene in ls2D:\n",
    "    sc.pl.umap(c25_wt_filtered,color=gene,size=50,save=f'2D_{gene}.pdf',cmap=cmap)"
   ]
  },
  {
   "cell_type": "markdown",
   "id": "62fc5edb-a784-48a6-b9dd-c711f48fab8f",
   "metadata": {},
   "source": [
    "# Figure 3"
   ]
  },
  {
   "cell_type": "code",
   "execution_count": null,
   "id": "42a899db-ffd2-4b8c-b438-d0b90c4984b6",
   "metadata": {},
   "outputs": [],
   "source": [
    "ls3AB = ['il1b','tnfa','nfkb1']\n",
    "ls3D = ['cd74a','cd74b','mhc2dab']"
   ]
  },
  {
   "cell_type": "code",
   "execution_count": null,
   "id": "ba0901d4-e3d0-4828-90b2-2674ff349a29",
   "metadata": {},
   "outputs": [],
   "source": [
    "for gene in ls3AB:\n",
    "    sc.pl.umap(All_wt_filtered,color=gene,size=50,save=f'3A_{gene}.pdf',cmap=cmap)\n",
    "    sc.pl.umap(c25_wt_filtered,color=gene,size=50,save=f'3B_{gene}.pdf',cmap=cmap)\n",
    "    \n",
    "for gene in ls3D:\n",
    "    sc.pl.umap(c25_wt_filtered,color=gene,size=50,save=f'3D_{gene}.pdf',cmap=cmap)"
   ]
  },
  {
   "cell_type": "code",
   "execution_count": null,
   "id": "252bbf09-e323-4744-9102-23840b2044f7",
   "metadata": {},
   "outputs": [],
   "source": [
    "ls3C = ['ccr2','csf1a','csf1b','ccl35.1','ccl35.2','cxcl12a','cxcl12b','cxcr4a','cxcr4b','il1b','il6','il10','nfkb1','rela','tlr2','tnfa','tnfb','cd74a','cd74b','mhc2dab']"
   ]
  },
  {
   "cell_type": "code",
   "execution_count": null,
   "id": "bfca8bf7-e147-4ac5-82ce-97b5d2f916d2",
   "metadata": {
    "tags": []
   },
   "outputs": [],
   "source": [
    "sc.pl.dotplot(Endo_c25_dbpos_wt,groupby='WT',var_names=ls3C,dot_max=1,swap_axes=True,\n",
    "                    standard_scale='var',save='3C.pdf')"
   ]
  },
  {
   "cell_type": "markdown",
   "id": "236a9b9a-e604-41d4-9b13-e6348562b92d",
   "metadata": {},
   "source": [
    "# Figure 6"
   ]
  },
  {
   "cell_type": "code",
   "execution_count": null,
   "id": "20557399-c47d-451c-acb2-ff9695b24e02",
   "metadata": {},
   "outputs": [],
   "source": [
    "sc.pl.umap(Koth_wt[Koth_wt.obs.Condition=='Injured'],color='pcna',\n",
    "           size=10,save='6F-1.pdf',cmap=cmap,title='pcna_wt_3dpi')"
   ]
  },
  {
   "cell_type": "code",
   "execution_count": null,
   "id": "b9083013-8d3e-4ffd-b934-02905feb41f2",
   "metadata": {},
   "outputs": [],
   "source": [
    "sc.pl.umap(Koth[Koth.obs.Genotype!='WT'],color='pcna',\n",
    "           size=10,save='6F-2.pdf',cmap=cmap,title='pcna_runx1ko_3dpi')"
   ]
  },
  {
   "cell_type": "markdown",
   "id": "97e0daed-f0ea-4506-8625-2a431cad7313",
   "metadata": {},
   "source": [
    "# Figure 7"
   ]
  },
  {
   "cell_type": "code",
   "execution_count": null,
   "id": "341a6df7-d460-4200-9ae9-ec3b23c6327d",
   "metadata": {},
   "outputs": [],
   "source": [
    "adata1 = Koth\n",
    "samp = 'Koth'\n",
    "\n",
    "GL = ['myb','gata2b','alas2','mpeg1.1','sla2']\n",
    "\n",
    "adataSub1 = adata1[(adata1.obs.Condition!='Injured')&(adata1.obs.Genotype=='WT')]\n",
    "adataSub1.obs['SubSample'] = f'{samp}_WT_Uninjured'\n",
    "adataSub2 = adata1[(adata1.obs.Condition=='Injured')&(adata1.obs.Genotype=='WT')]\n",
    "adataSub2.obs['SubSample'] = f'{samp}_WT_3dpi'\n",
    "adataSub3 = adata1[(adata1.obs.Condition=='Injured')&(adata1.obs.Genotype=='runx1-/-')]\n",
    "adataSub3.obs['SubSample'] = f'{samp}_runx1ko_3dpi'\n",
    "\n",
    "for toplot in GL:\n",
    "    adata_raw = anndata.AnnData(X=adata1.raw.X,var=adata1.raw.var,obs=adata1.obs)\n",
    "    adataOnly = adata_raw[:,[toplot]]\n",
    "\n",
    "    # fig,ax = plt.subplots(3,1,figsize=(4.3,10),sharex=True,sharey=True)\n",
    "    fig,ax = plt.subplots(1,3,\n",
    "                          figsize=(10,3.3),\n",
    "                          sharex=True,sharey=True)\n",
    "    sz = 10\n",
    "    maxexp = max(1,np.max(adataOnly.X))\n",
    "    medexp = maxexp/2\n",
    "    sc.pl.umap(adataSub1,color=[toplot],size=sz,cmap=cmap,\n",
    "               vmax=maxexp,vcenter=medexp,legend_loc=None,\n",
    "               title=f'{toplot}_{adataSub1.obs.SubSample[0]}',ax=ax[0],show=False)\n",
    "    sc.pl.umap(adataSub2,color=[toplot],size=sz,cmap=cmap,\n",
    "               vmax=maxexp,vcenter=medexp,legend_loc=None,\n",
    "               title=f'{toplot}_{adataSub2.obs.SubSample[0]}',ax=ax[1],show=False)\n",
    "    sc.pl.umap(adataSub3,color=[toplot],size=sz,cmap=cmap,\n",
    "               vmax=maxexp,vcenter=medexp,\n",
    "               title=f'{toplot}_{adataSub3.obs.SubSample[0]}',ax=ax[2],show=False)\n",
    "    fig.tight_layout()\n",
    "    plt.savefig(f'./figures/{samp}_{toplot}_compare.pdf')"
   ]
  },
  {
   "cell_type": "code",
   "execution_count": 674,
   "id": "c42e7a55-66c4-47bc-9be3-aec58fda2196",
   "metadata": {},
   "outputs": [],
   "source": [
    "ls7C = ['kdrl','cdh5','gata1a','gata2a','gata2b','tal1','myb','lmo2','itga2b','alas2','hbba1','spi1b','pcna','lcp1','lyz','mmp9','mpeg1.1','mpx','sla2']"
   ]
  },
  {
   "cell_type": "code",
   "execution_count": null,
   "id": "a2a9426d-6f0d-4a63-9359-9dddea10c4c9",
   "metadata": {},
   "outputs": [],
   "source": [
    "adataA = c25[c25.obs.Author=='Koth'].copy()\n",
    "adataA = adataA[adataA.obs.Condition=='Injured']\n",
    "\n",
    "sc.pl.dotplot(adataA,groupby='Genotype',var_names=ls7C,dot_max=1,swap_axes=True,\n",
    "                    standard_scale='var',save='7C.pdf')"
   ]
  }
 ],
 "metadata": {
  "kernelspec": {
   "display_name": "sc182-python",
   "language": "python",
   "name": "sc182"
  },
  "language_info": {
   "codemirror_mode": {
    "name": "ipython",
    "version": 3
   },
   "file_extension": ".py",
   "mimetype": "text/x-python",
   "name": "python",
   "nbconvert_exporter": "python",
   "pygments_lexer": "ipython3",
   "version": "3.8.17"
  }
 },
 "nbformat": 4,
 "nbformat_minor": 5
}

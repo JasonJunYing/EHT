{
 "cells": [
  {
   "cell_type": "markdown",
   "id": "4e49bb02-c125-4700-ae0d-38178997aa04",
   "metadata": {},
   "source": [
    "# EHT plottings"
   ]
  },
  {
   "cell_type": "code",
   "execution_count": 559,
   "id": "d446c275-0675-4b87-aad2-d5186c79605e",
   "metadata": {
    "scrolled": true
   },
   "outputs": [
    {
     "name": "stdout",
     "output_type": "stream",
     "text": [
      "Warning: Cannot change to a different GUI toolkit: nbagg. Using notebook instead.\n",
      "scanpy==1.9.3 anndata==0.8.0 umap==0.5.3 numpy==1.23.4 scipy==1.9.3 pandas==1.5.3 scikit-learn==1.3.2 statsmodels==0.14.0 python-igraph==0.10.4 pynndescent==0.5.8\n"
     ]
    }
   ],
   "source": [
    "%matplotlib nbagg\n",
    "import numpy as np\n",
    "import matplotlib.pyplot as plt\n",
    "import scanpy as sc\n",
    "import pandas as pd\n",
    "from os import listdir\n",
    "from os.path import isfile, join\n",
    "import re\n",
    "import anndata\n",
    "import seaborn as sns\n",
    "\n",
    "plt.rcParams['pdf.fonttype'] = 42\n",
    "plt.rcParams['ps.fonttype'] = 42\n",
    "\n",
    "sc.settings.verbosity = 3  # verbosity: errors (0), warnings (1), info (2), hints (3)\n",
    "sc.logging.print_header()\n",
    "\n",
    "from matplotlib.colors import LinearSegmentedColormap\n",
    "cmap = LinearSegmentedColormap.from_list(name='gene_cmap', colors=['lightgrey', 'thistle', 'red', 'darkred']) \n",
    "\n",
    "sc.settings.set_figure_params(dpi=80, color_map='viridis', vector_friendly=False,  dpi_save=300)"
   ]
  },
  {
   "cell_type": "code",
   "execution_count": 452,
   "id": "075f367e-1ee6-4429-9482-adc614f8cdfb",
   "metadata": {},
   "outputs": [],
   "source": [
    "from matplotlib import font_manager\n",
    "font_manager.fontManager.addfont('/cluster/groups/Wangxiaonan/share/yingjun/arial.ttf')\n",
    "plt.rcParams['font.sans-serif'] = 'Arial'"
   ]
  },
  {
   "cell_type": "markdown",
   "id": "0d196dee-8733-4de4-8132-912f22e3cb80",
   "metadata": {},
   "source": [
    "# Sample ReadIn"
   ]
  },
  {
   "cell_type": "code",
   "execution_count": null,
   "id": "0cdc07dc-5801-47b2-8662-aac9afc65aab",
   "metadata": {},
   "outputs": [],
   "source": [
    "# All cells\n",
    "All_cells = sc.read('./write/All_outer_leidenv2.h5ad') \n",
    "\n",
    "# All wild-type cells without DMSO/IWR/morphine treatment \n",
    "All_wt_filtered = sc.read('./write/All_outer_filtered.h5ad')\n",
    "\n",
    "# Koth et al's data\n",
    "Koth = sc.read('./write/Koth.h5ad')\n",
    "\n",
    "# Wild-type cells in Koth's data\n",
    "Koth_wt = sc.read('./write/Koth_wt.h5ad')\n",
    "\n",
    "# Runx1-Citrine;Kdrl-mCherry double+ cells in Koth's study\n",
    "dbpos = sc.read('./write/dbpos.h5ad')\n",
    "\n",
    "# Double+ wild-type cells in Koth's study\n",
    "dbpos_wt = sc.read('./write/dbpos_wt.h5ad')\n",
    "\n",
    "# EHT clusters (c25)\n",
    "c25 = sc.read('./write/c25.h5ad')\n",
    "\n",
    "# Wild-type cells in EHT clusters\n",
    "c25_wt_filtered = sc.read('./write/c25_wt_filtered.h5ad')\n",
    "\n",
    "# The combination of wild-type: Endocardial cells (0,3,7,30dpi), EHT (0,3,7,30dpi) and the double+cells (0,3dpi)\n",
    "Endo_c25_dbpos_wt = sc.read('./write/Endo_c25_dbpos_wt.h5ad')"
   ]
  },
  {
   "cell_type": "markdown",
   "id": "0b6af964-50f9-47f0-9922-368f893d09ea",
   "metadata": {},
   "source": [
    "# Figure 1"
   ]
  },
  {
   "cell_type": "code",
   "execution_count": null,
   "id": "2b592474-ee15-4c28-bb5d-adf46f5ab570",
   "metadata": {},
   "outputs": [],
   "source": [
    "sc.pl.umap(All_wt_filtered,color='CT_new1',size=3,save='1D.pdf')"
   ]
  },
  {
   "cell_type": "code",
   "execution_count": null,
   "id": "ee5cf401-533b-47fe-8eef-a8557a5c03c5",
   "metadata": {},
   "outputs": [],
   "source": [
    "sc.pl.umap(Koth_wt[Koth_wt.obs.Condition=='Healthy'],color='dbpos_CTnew1',size=20,save='1E-1.pdf')"
   ]
  },
  {
   "cell_type": "code",
   "execution_count": null,
   "id": "34fe0bed-87e7-499d-805b-fd9250e91c46",
   "metadata": {},
   "outputs": [],
   "source": [
    "sc.pl.umap(Koth_wt[Koth_wt.obs.Condition=='Injured'],color='dbpos_CTnew1',size=20,save='1E-2.pdf')"
   ]
  },
  {
   "cell_type": "code",
   "execution_count": null,
   "id": "9bf5963f-6887-4ceb-aa61-ec1a2d976b77",
   "metadata": {},
   "outputs": [],
   "source": [
    "ls1F = ['pcna','itga2b','myb','myh11a','tcf21','col1a1b','kdrl']"
   ]
  },
  {
   "cell_type": "code",
   "execution_count": null,
   "id": "2fe24e5b-97a0-4cc8-8ef4-e9e3d0debfc5",
   "metadata": {},
   "outputs": [],
   "source": [
    "sc.pl.dotplot(Koth_wt[Koth_wt.obs.Condition=='Injured'],groupby='dbpos_CTnew1',var_names=ls1F,dot_max=1,\n",
    "                    standard_scale='var',save='1F.pdf')"
   ]
  },
  {
   "cell_type": "code",
   "execution_count": null,
   "id": "75eb5d8f-c44d-4ea7-93a4-70da0fe41f31",
   "metadata": {},
   "outputs": [],
   "source": [
    "sc.pl.umap(All_wt_filtered,color='pcna',size=3,save='1G.pdf',cmap=cmap)"
   ]
  },
  {
   "cell_type": "markdown",
   "id": "010b03e5-354b-470f-ba5e-aa53c07f9a42",
   "metadata": {},
   "source": [
    "# Figure 2"
   ]
  },
  {
   "cell_type": "code",
   "execution_count": null,
   "id": "53d43513-8de9-4105-b8f3-023e9bfa392e",
   "metadata": {},
   "outputs": [],
   "source": [
    "sc.pl.umap(All_wt_filtered,color='CT_Final',size=3,save='2A.pdf')"
   ]
  },
  {
   "cell_type": "code",
   "execution_count": null,
   "id": "aab476ef-274d-4670-a76e-d6d246040317",
   "metadata": {},
   "outputs": [],
   "source": [
    "sc.pl.umap(c25_wt_filtered,color='EHT',size=50,save='2B.pdf')"
   ]
  },
  {
   "cell_type": "code",
   "execution_count": null,
   "id": "ba732b3c-33cd-44db-80fe-4a8a85217b20",
   "metadata": {},
   "outputs": [],
   "source": [
    "ls2D = ['kdrl','cdh5','notch1b','gata2a','lmo2','runx1','myb','coro1a','fil1a','aldh1a2','her6','tal1','pcna','gata2b','spi1b','cxcr4b','mmp9','mpeg1.1','sla2','hemgn']"
   ]
  },
  {
   "cell_type": "code",
   "execution_count": null,
   "id": "bb324833-7925-4b97-a227-8982c43db880",
   "metadata": {},
   "outputs": [],
   "source": [
    "for gene in ls2D:\n",
    "    sc.pl.umap(c25_wt_filtered,color=gene,size=50,save=f'2D_{gene}.pdf',cmap=cmap)"
   ]
  },
  {
   "cell_type": "markdown",
   "id": "6647e187-308c-447c-9571-5081581c1acf",
   "metadata": {},
   "source": [
    "# Figure 3"
   ]
  },
  {
   "cell_type": "code",
   "execution_count": null,
   "id": "d8d0e199-9d33-42b3-b4a2-dc492dc0c514",
   "metadata": {},
   "outputs": [],
   "source": [
    "ls3AB = ['il1b','tnfa','nfkb1']\n",
    "ls3D = ['cd74a','cd74b','mhc2dab']"
   ]
  },
  {
   "cell_type": "code",
   "execution_count": null,
   "id": "f74b7e0a-536d-4d8e-bbae-7a045a68e153",
   "metadata": {},
   "outputs": [],
   "source": [
    "for gene in ls3AB:\n",
    "    sc.pl.umap(All_wt_filtered,color=gene,size=50,save=f'3A_{gene}.pdf',cmap=cmap)\n",
    "    sc.pl.umap(c25_wt_filtered,color=gene,size=50,save=f'3B_{gene}.pdf',cmap=cmap)\n",
    "    \n",
    "for gene in ls3D:\n",
    "    sc.pl.umap(c25_wt_filtered,color=gene,size=50,save=f'3D_{gene}.pdf',cmap=cmap)"
   ]
  },
  {
   "cell_type": "code",
   "execution_count": null,
   "id": "1cc51540-9b04-4c4d-93c9-0e5fd8b0ad74",
   "metadata": {},
   "outputs": [],
   "source": [
    "ls3C = ['ccr2','csf1a','csf1b','ccl35.1','ccl35.2','cxcl12a','cxcl12b','cxcr4a','cxcr4b','il1b','il6','il10','nfkb1','rela','tlr2','tnfa','tnfb','cd74a','cd74b','mhc2dab']"
   ]
  },
  {
   "cell_type": "code",
   "execution_count": null,
   "id": "c14777ba-e453-47b4-aee3-7db5bdfea9cd",
   "metadata": {
    "tags": []
   },
   "outputs": [],
   "source": [
    "sc.pl.dotplot(Endo_c25_dbpos_wt,groupby='WT',var_names=ls3C,dot_max=1,swap_axes=True,\n",
    "                    standard_scale='var',save='3C.pdf')"
   ]
  },
  {
   "cell_type": "markdown",
   "id": "4c5fa71e-859f-442e-9e51-ffcf13f99d3f",
   "metadata": {},
   "source": [
    "# Figure 6"
   ]
  },
  {
   "cell_type": "code",
   "execution_count": null,
   "id": "a82cddb9-4b83-4263-be75-3dce54ee8855",
   "metadata": {},
   "outputs": [],
   "source": [
    "sc.pl.umap(Koth_wt[Koth_wt.obs.Condition=='Injured'],color='pcna',\n",
    "           size=10,save='6F-1.pdf',cmap=cmap,title='pcna_wt_3dpi')"
   ]
  },
  {
   "cell_type": "code",
   "execution_count": null,
   "id": "adfc1f52-9bc2-4f21-9cd2-97c54e3a7fd8",
   "metadata": {},
   "outputs": [],
   "source": [
    "sc.pl.umap(Koth[Koth.obs.Genotype!='WT'],color='pcna',\n",
    "           size=10,save='6F-2.pdf',cmap=cmap,title='pcna_runx1ko_3dpi')"
   ]
  },
  {
   "cell_type": "markdown",
   "id": "6fa7d90a-c7df-46bc-81f6-c76bffb7466f",
   "metadata": {},
   "source": [
    "# Figure 7"
   ]
  },
  {
   "cell_type": "code",
   "execution_count": null,
   "id": "a1b1a890-4225-467a-812e-3186dff67eaa",
   "metadata": {},
   "outputs": [],
   "source": [
    "adata1 = Koth\n",
    "samp = 'Koth'\n",
    "\n",
    "GL = ['myb','gata2b','alas2','mpeg1.1','sla2']\n",
    "\n",
    "adataSub1 = adata1[(adata1.obs.Condition!='Injured')&(adata1.obs.Genotype=='WT')]\n",
    "adataSub1.obs['SubSample'] = f'{samp}_WT_Uninjured'\n",
    "adataSub2 = adata1[(adata1.obs.Condition=='Injured')&(adata1.obs.Genotype=='WT')]\n",
    "adataSub2.obs['SubSample'] = f'{samp}_WT_3dpi'\n",
    "adataSub3 = adata1[(adata1.obs.Condition=='Injured')&(adata1.obs.Genotype=='runx1-/-')]\n",
    "adataSub3.obs['SubSample'] = f'{samp}_runx1ko_3dpi'\n",
    "\n",
    "for toplot in GL:\n",
    "    adata_raw = anndata.AnnData(X=adata1.raw.X,var=adata1.raw.var,obs=adata1.obs)\n",
    "    adataOnly = adata_raw[:,[toplot]]\n",
    "\n",
    "    # fig,ax = plt.subplots(3,1,figsize=(4.3,10),sharex=True,sharey=True)\n",
    "    fig,ax = plt.subplots(1,3,\n",
    "                          figsize=(10,3.3),\n",
    "                          sharex=True,sharey=True)\n",
    "    sz = 10\n",
    "    maxexp = max(1,np.max(adataOnly.X))\n",
    "    medexp = maxexp/2\n",
    "    sc.pl.umap(adataSub1,color=[toplot],size=sz,cmap=cmap,\n",
    "               vmax=maxexp,vcenter=medexp,legend_loc=None,\n",
    "               title=f'{toplot}_{adataSub1.obs.SubSample[0]}',ax=ax[0],show=False)\n",
    "    sc.pl.umap(adataSub2,color=[toplot],size=sz,cmap=cmap,\n",
    "               vmax=maxexp,vcenter=medexp,legend_loc=None,\n",
    "               title=f'{toplot}_{adataSub2.obs.SubSample[0]}',ax=ax[1],show=False)\n",
    "    sc.pl.umap(adataSub3,color=[toplot],size=sz,cmap=cmap,\n",
    "               vmax=maxexp,vcenter=medexp,\n",
    "               title=f'{toplot}_{adataSub3.obs.SubSample[0]}',ax=ax[2],show=False)\n",
    "    fig.tight_layout()\n",
    "    plt.savefig(f'./figures/{samp}_{toplot}_compare.pdf')"
   ]
  },
  {
   "cell_type": "code",
   "execution_count": 674,
   "id": "26579a25-4b78-4c48-8911-c7d164c41d2a",
   "metadata": {},
   "outputs": [],
   "source": [
    "ls7C = ['kdrl','cdh5','gata1a','gata2a','gata2b','tal1','myb','lmo2','itga2b','alas2','hbba1','spi1b','pcna','lcp1','lyz','mmp9','mpeg1.1','mpx','sla2']"
   ]
  },
  {
   "cell_type": "code",
   "execution_count": null,
   "id": "03c38b08-c692-42aa-bb4d-df518421429d",
   "metadata": {},
   "outputs": [],
   "source": [
    "adataA = c25[c25.obs.Author=='Koth'].copy()\n",
    "adataA = adataA[adataA.obs.Condition=='Injured']\n",
    "\n",
    "sc.pl.dotplot(adataA,groupby='Genotype',var_names=ls7C,dot_max=1,swap_axes=True,\n",
    "                    standard_scale='var',save='7C.pdf')"
   ]
  },
  {
   "cell_type": "markdown",
   "id": "86324128-743f-4bc1-963a-86dc64d9f42d",
   "metadata": {},
   "source": [
    "# Supplementary Figure 1"
   ]
  },
  {
   "cell_type": "code",
   "execution_count": null,
   "id": "e6c5cdbf-f89b-43f1-896f-a3c0f34a2baa",
   "metadata": {},
   "outputs": [],
   "source": [
    "samp = 'All_wt_filtered'\n",
    "size = 10 if samp.startswith('All') else 50\n",
    "adataA = eval(samp)\n",
    "cat = adataToA.obs.Days.cat.categories\n",
    "toplot = 'CT_Final'\n",
    "\n",
    "for day in cat:\n",
    "    adataSub = adataToA[adataToA.obs.Days==cat]\n",
    "    sc.pl.umap(adataSub,color=toplot,title=f'{samp}_{toplot}',cmap=cmap,\n",
    "               size=size,\n",
    "               save=f'S1D_{samp}_{cat}_{toplot}.pdf'\n",
    "              )"
   ]
  },
  {
   "cell_type": "markdown",
   "id": "1394955a-b95c-4f3f-ba39-0143147e7ec7",
   "metadata": {},
   "source": [
    "# Supplementary Figure 4"
   ]
  },
  {
   "cell_type": "code",
   "execution_count": null,
   "id": "7f327ff4-b49c-486f-8db1-b454c12463e6",
   "metadata": {},
   "outputs": [],
   "source": [
    "sc.pl.umap(All_wt_filtered,color='CT_Final',size=3,save='S4A.pdf')"
   ]
  },
  {
   "cell_type": "code",
   "execution_count": null,
   "id": "9958dba2-5a3e-4a27-ad91-9f2c3f6345fe",
   "metadata": {},
   "outputs": [],
   "source": [
    "samp = 'All_wt_filtered'\n",
    "size = 10 if samp.startswith('All') else 50\n",
    "adataA = eval(samp)\n",
    "cat = adataToA.obs.Days.cat.categories\n",
    "toplot = 'kdrl'\n",
    "\n",
    "for day in cat:\n",
    "    adataSub = adataToA[adataToA.obs.Days==cat]\n",
    "    sc.pl.umap(adataSub,color=toplot,title=f'{samp}_{toplot}',cmap=cmap,\n",
    "               size=size,\n",
    "               save=f'S4B_{samp}_{cat}_{toplot}.pdf'\n",
    "              )"
   ]
  },
  {
   "cell_type": "markdown",
   "id": "a32a3857-5416-40f0-9056-f41d6feaef08",
   "metadata": {},
   "source": [
    "# Supplementary Figure 6"
   ]
  },
  {
   "cell_type": "code",
   "execution_count": null,
   "id": "3d6529c6-c422-47e8-b9b0-605d6cb8497b",
   "metadata": {},
   "outputs": [],
   "source": [
    "sc.pl.umap(All_wt_filtered,color='Leiden_v1',size=3,save='S6A.pdf')"
   ]
  },
  {
   "cell_type": "code",
   "execution_count": null,
   "id": "5fe048cd-2e35-49ae-bb63-9dcb6db5be6f",
   "metadata": {},
   "outputs": [],
   "source": [
    "sc.pl.umap(All_wt_filtered,color='Leiden_v2',size=3,save='S6B.pdf')"
   ]
  }
 ],
 "metadata": {
  "kernelspec": {
   "display_name": "sc182-python",
   "language": "python",
   "name": "sc182"
  },
  "language_info": {
   "name": ""
  }
 },
 "nbformat": 4,
 "nbformat_minor": 5
}

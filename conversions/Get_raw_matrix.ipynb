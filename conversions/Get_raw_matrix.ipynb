{
 "cells": [
  {
   "cell_type": "code",
   "execution_count": 4,
   "id": "38812470-75e1-4091-a997-d4cd72735b7a",
   "metadata": {
    "tags": []
   },
   "outputs": [],
   "source": [
    "import scanpy as sc\n",
    "import anndata\n",
    "import pandas as pd\n",
    "import numpy as np"
   ]
  },
  {
   "cell_type": "code",
   "execution_count": 3,
   "id": "da7421d2-68b7-46e6-8702-200c7fe45830",
   "metadata": {},
   "outputs": [],
   "source": [
    "import scipy as sp"
   ]
  },
  {
   "cell_type": "markdown",
   "id": "fbd7d838-18e2-4f93-a7b2-c6979ce78f1e",
   "metadata": {
    "tags": []
   },
   "source": [
    "# Convert c25_wt to Seurat"
   ]
  },
  {
   "cell_type": "code",
   "execution_count": 10,
   "id": "53bf4261-caec-4549-bcf6-737b5f3eef84",
   "metadata": {},
   "outputs": [],
   "source": [
    "adata0 = sc.read('./write/All_outer_filtered.h5ad')"
   ]
  },
  {
   "cell_type": "code",
   "execution_count": 53,
   "id": "86145966-ba0f-4029-92b0-0c56c3005715",
   "metadata": {},
   "outputs": [],
   "source": [
    "adata0.obs['CT_fateid_v2'] = ['T-cells 2' if (adata0.obs['Leiden_v1'][x]=='15' and adata0.obs['CT_new2'][x]=='T-cells') else adata0.obs['CT_endov2'][x] for x in adata0.obs_names]"
   ]
  },
  {
   "cell_type": "code",
   "execution_count": 54,
   "id": "4823e511-c0be-4140-b8c2-9010756325c6",
   "metadata": {},
   "outputs": [],
   "source": [
    "adata0.obs['EHT_tc'] = adata0.obs.CT_fateid_v2.astype('category').cat.rename_categories({\n",
    "    'Endocardium (Inflam.)':'tc0',\n",
    "    'EHT-2':'tc2',\n",
    "    'EHT-4':'tc4',\n",
    "    'EHT-1':'tc1',\n",
    "    'EHT-3':'tc3',\n",
    "    'T-cells 2':'tc5',\n",
    "    'Macrophage 2':'tc6',\n",
    "})"
   ]
  },
  {
   "cell_type": "code",
   "execution_count": 83,
   "id": "deeeab15-bc91-4bbf-8ebd-f7e43364511e",
   "metadata": {},
   "outputs": [],
   "source": [
    "adata0.write('./write/All_outer_filtered.h5ad')"
   ]
  },
  {
   "cell_type": "code",
   "execution_count": 55,
   "id": "bea0242c-1b59-42f5-be7b-5277797d1091",
   "metadata": {},
   "outputs": [],
   "source": [
    "adata = adata0[adata0.obs.EHT_tc.str.startswith('tc')]"
   ]
  },
  {
   "cell_type": "code",
   "execution_count": 56,
   "id": "ef7038d7-5fa8-4a6b-9253-bff7b52cdac4",
   "metadata": {},
   "outputs": [
    {
     "data": {
      "text/plain": [
       "View of AnnData object with n_obs × n_vars = 2992 × 9468\n",
       "    obs: 'Index', 'Age', 'Development_stage', 'Condition', 'Day', 'Strain', 'Tissue', 'StudyID', 'CellType', 'Genotype', 'Organism', 'Gender', 'Author', 'n_genes', 'n_genes_by_counts', 'log1p_n_genes_by_counts', 'total_counts', 'log1p_total_counts', 'pct_counts_in_top_50_genes', 'pct_counts_in_top_100_genes', 'pct_counts_in_top_200_genes', 'pct_counts_in_top_500_genes', 'total_counts_mt', 'log1p_total_counts_mt', 'pct_counts_mt', 'batch', 'n_counts', 'phase', 'S_score', 'G2M_score', 'EGFP', 'FishID', 'Treatment', 'RFP', 'db_scores', 'FishID_new', 'CellID', 'Cell', 'orig.ident', 'nCount_RNA', 'nFeature_RNA', 'percent.mito', 'time', 'morphine', 'AV', 'inhib', 'so.far.ident.subtypes', 'so.far.ident', 'RNA_snn_res.4', 'seurat_clusters', 'work.ident', 'fibro.subtypes', 'is.inhib', 'split.inhib', 'zoom.ident', 'zoom.subtypes', 'plot.ident', 'CM.ident', 'paper.ident', 'RNA_snn_res.2', 'RNA_snn_res.3', 'RNA_snn_res.3.5', 'work.ident2', 'work.ident3', 'final.zoom', 'lineage.ident', 'Cell_type', 'Cell_name', 'Citrine', 'DsRedEx', 'Title', 'Leiden_v1', 'Leiden_v2', 'leiden_R', 'CT_new1', 'CT_new2', 'Leiden_sub_c16', 'Leiden_sub_c16_5', 'Leiden_sub_c27', 'CT_c16', 'CT_c27', 'CT_Final', 'EHT_num', 'CT_new3', 'Days', 'Leiden_sub_c20', 'Endo_type', 'inflammatory_Endo', 'CT_endov2', 'CT_fateid_v2', 'EHT_tc'\n",
       "    var: 'highly_variable'\n",
       "    uns: 'CT_Final_colors', 'CT_Final_sizes', 'CT_c16_colors', 'CT_c27_colors', 'CT_endov2_colors', 'CT_new1_colors', 'CT_new2_colors', 'CT_new2_sizes', 'CT_new3_colors', 'Cell_type_colors', 'Leiden_sub_c16_colors', 'Leiden_v1_colors', 'Leiden_v2_colors', 'inflammatory_Endo_colors', 'iroot', 'leiden', 'leiden_R_colors', 'lineage.ident_colors', 'neighbors', 'paga', 'so.far.ident.subtypes_colors'\n",
       "    obsm: 'X_pca', 'X_pca_harmony_Index', 'X_pca_harmony_Index_combined', 'X_umap'\n",
       "    obsp: 'connectivities', 'distances'"
      ]
     },
     "execution_count": 56,
     "metadata": {},
     "output_type": "execute_result"
    }
   ],
   "source": [
    "adata"
   ]
  },
  {
   "cell_type": "code",
   "execution_count": 57,
   "id": "71066d37-fd22-49c7-a8d2-4cdbdb1a7aee",
   "metadata": {},
   "outputs": [
    {
     "data": {
      "text/plain": [
       "Index(['tc1', 'tc2', 'tc3', 'tc4', 'tc0', 'tc6', 'tc5'], dtype='object')"
      ]
     },
     "execution_count": 57,
     "metadata": {},
     "output_type": "execute_result"
    }
   ],
   "source": [
    "adata.obs.EHT_tc.cat.categories"
   ]
  },
  {
   "cell_type": "code",
   "execution_count": 58,
   "id": "13fc6a0a-aea1-475d-a0ad-47f6996929c2",
   "metadata": {},
   "outputs": [
    {
     "name": "stderr",
     "output_type": "stream",
     "text": [
      "/tmp/ipykernel_410780/3845666789.py:1: ImplicitModificationWarning: Trying to modify attribute `.obs` of view, initializing view as actual.\n",
      "  adata.obs['EHT_num'] = adata.obs.EHT_tc.cat.rename_categories({\n"
     ]
    }
   ],
   "source": [
    "adata.obs['EHT_num'] = adata.obs.EHT_tc.cat.rename_categories({\n",
    "    'tc0':0,\n",
    "    'tc1':1,\n",
    "    'tc2':2,\n",
    "    'tc3':3,\n",
    "    'tc4':4,\n",
    "    'tc5':5,\n",
    "    'tc6':6,\n",
    "})"
   ]
  },
  {
   "cell_type": "code",
   "execution_count": 59,
   "id": "55b24fc9-97c0-44a4-8537-8dc9bad7dc81",
   "metadata": {},
   "outputs": [
    {
     "data": {
      "text/plain": [
       "6    1256\n",
       "0     687\n",
       "2     379\n",
       "4     309\n",
       "5     140\n",
       "1     123\n",
       "3      98\n",
       "Name: EHT_num, dtype: int64"
      ]
     },
     "execution_count": 59,
     "metadata": {},
     "output_type": "execute_result"
    }
   ],
   "source": [
    "adata.obs.EHT_num.value_counts()"
   ]
  },
  {
   "cell_type": "code",
   "execution_count": 60,
   "id": "442860ef-33e8-4e70-9062-2c6077b7b0a3",
   "metadata": {},
   "outputs": [],
   "source": [
    "adata.obs['EHT'] = 'EHT' + adata.obs['EHT_num'].astype('str')"
   ]
  },
  {
   "cell_type": "code",
   "execution_count": 61,
   "id": "65851ef8-1878-48cc-8f23-1a19e4911e68",
   "metadata": {},
   "outputs": [],
   "source": [
    "adata.write('./write/c25LeukoEndov2_wt_filtered.h5ad')"
   ]
  },
  {
   "cell_type": "code",
   "execution_count": 62,
   "id": "3ab9ebb2-9d64-4046-be34-125ecbef2a64",
   "metadata": {},
   "outputs": [],
   "source": [
    "adata.obs['UMAP_1'] = pd.DataFrame(adata.obsm['X_umap'],index=adata.obs_names)[0]\n",
    "adata.obs['UMAP_2'] = pd.DataFrame(adata.obsm['X_umap'],index=adata.obs_names)[1]"
   ]
  },
  {
   "cell_type": "code",
   "execution_count": 63,
   "id": "c190e455-8e3d-4624-807f-d4c22d97d112",
   "metadata": {},
   "outputs": [
    {
     "data": {
      "text/html": [
       "<div>\n",
       "<style scoped>\n",
       "    .dataframe tbody tr th:only-of-type {\n",
       "        vertical-align: middle;\n",
       "    }\n",
       "\n",
       "    .dataframe tbody tr th {\n",
       "        vertical-align: top;\n",
       "    }\n",
       "\n",
       "    .dataframe thead th {\n",
       "        text-align: right;\n",
       "    }\n",
       "</style>\n",
       "<table border=\"1\" class=\"dataframe\">\n",
       "  <thead>\n",
       "    <tr style=\"text-align: right;\">\n",
       "      <th></th>\n",
       "      <th>Index</th>\n",
       "      <th>Age</th>\n",
       "      <th>Development_stage</th>\n",
       "      <th>Condition</th>\n",
       "      <th>Day</th>\n",
       "      <th>Strain</th>\n",
       "      <th>Tissue</th>\n",
       "      <th>StudyID</th>\n",
       "      <th>CellType</th>\n",
       "      <th>Genotype</th>\n",
       "      <th>...</th>\n",
       "      <th>Days</th>\n",
       "      <th>Leiden_sub_c20</th>\n",
       "      <th>Endo_type</th>\n",
       "      <th>inflammatory_Endo</th>\n",
       "      <th>CT_endov2</th>\n",
       "      <th>CT_fateid_v2</th>\n",
       "      <th>EHT_tc</th>\n",
       "      <th>EHT</th>\n",
       "      <th>UMAP_1</th>\n",
       "      <th>UMAP_2</th>\n",
       "    </tr>\n",
       "  </thead>\n",
       "  <tbody>\n",
       "    <tr>\n",
       "      <th>H5_AGCCTAATCTGGGCCA-3</th>\n",
       "      <td>GSM4817928</td>\n",
       "      <td>4-12m</td>\n",
       "      <td>adult</td>\n",
       "      <td>Healthy</td>\n",
       "      <td>0</td>\n",
       "      <td>Zebrabow M</td>\n",
       "      <td>heart</td>\n",
       "      <td>GSE159032</td>\n",
       "      <td>All cells</td>\n",
       "      <td>WT</td>\n",
       "      <td>...</td>\n",
       "      <td>Day0</td>\n",
       "      <td>23</td>\n",
       "      <td>NaN</td>\n",
       "      <td>Other cell</td>\n",
       "      <td>Macrophage 2</td>\n",
       "      <td>Macrophage 2</td>\n",
       "      <td>tc6</td>\n",
       "      <td>EHT6</td>\n",
       "      <td>6.786125</td>\n",
       "      <td>-2.189691</td>\n",
       "    </tr>\n",
       "    <tr>\n",
       "      <th>H5_CATTCGCGTGTGCGTC-3</th>\n",
       "      <td>GSM4817928</td>\n",
       "      <td>4-12m</td>\n",
       "      <td>adult</td>\n",
       "      <td>Healthy</td>\n",
       "      <td>0</td>\n",
       "      <td>Zebrabow M</td>\n",
       "      <td>heart</td>\n",
       "      <td>GSE159032</td>\n",
       "      <td>All cells</td>\n",
       "      <td>WT</td>\n",
       "      <td>...</td>\n",
       "      <td>Day0</td>\n",
       "      <td>25</td>\n",
       "      <td>NaN</td>\n",
       "      <td>Other cell</td>\n",
       "      <td>EHT-4</td>\n",
       "      <td>EHT-4</td>\n",
       "      <td>tc4</td>\n",
       "      <td>EHT4</td>\n",
       "      <td>7.451823</td>\n",
       "      <td>-0.124400</td>\n",
       "    </tr>\n",
       "    <tr>\n",
       "      <th>H5_TACTTACTCAAGAAGT-3</th>\n",
       "      <td>GSM4817928</td>\n",
       "      <td>4-12m</td>\n",
       "      <td>adult</td>\n",
       "      <td>Healthy</td>\n",
       "      <td>0</td>\n",
       "      <td>Zebrabow M</td>\n",
       "      <td>heart</td>\n",
       "      <td>GSE159032</td>\n",
       "      <td>All cells</td>\n",
       "      <td>WT</td>\n",
       "      <td>...</td>\n",
       "      <td>Day0</td>\n",
       "      <td>20,3</td>\n",
       "      <td>NaN</td>\n",
       "      <td>Other cell</td>\n",
       "      <td>Macrophage 2</td>\n",
       "      <td>Macrophage 2</td>\n",
       "      <td>tc6</td>\n",
       "      <td>EHT6</td>\n",
       "      <td>8.785749</td>\n",
       "      <td>-0.588229</td>\n",
       "    </tr>\n",
       "    <tr>\n",
       "      <th>H5_TCAGATGCACCAGCAC-3</th>\n",
       "      <td>GSM4817928</td>\n",
       "      <td>4-12m</td>\n",
       "      <td>adult</td>\n",
       "      <td>Healthy</td>\n",
       "      <td>0</td>\n",
       "      <td>Zebrabow M</td>\n",
       "      <td>heart</td>\n",
       "      <td>GSE159032</td>\n",
       "      <td>All cells</td>\n",
       "      <td>WT</td>\n",
       "      <td>...</td>\n",
       "      <td>Day0</td>\n",
       "      <td>20,0</td>\n",
       "      <td>NaN</td>\n",
       "      <td>Other cell</td>\n",
       "      <td>Macrophage 2</td>\n",
       "      <td>Macrophage 2</td>\n",
       "      <td>tc6</td>\n",
       "      <td>EHT6</td>\n",
       "      <td>8.911777</td>\n",
       "      <td>-1.945594</td>\n",
       "    </tr>\n",
       "    <tr>\n",
       "      <th>H5_TGAAAGAAGCGCTTAT-3</th>\n",
       "      <td>GSM4817928</td>\n",
       "      <td>4-12m</td>\n",
       "      <td>adult</td>\n",
       "      <td>Healthy</td>\n",
       "      <td>0</td>\n",
       "      <td>Zebrabow M</td>\n",
       "      <td>heart</td>\n",
       "      <td>GSE159032</td>\n",
       "      <td>All cells</td>\n",
       "      <td>WT</td>\n",
       "      <td>...</td>\n",
       "      <td>Day0</td>\n",
       "      <td>20,0</td>\n",
       "      <td>NaN</td>\n",
       "      <td>Other cell</td>\n",
       "      <td>Macrophage 2</td>\n",
       "      <td>Macrophage 2</td>\n",
       "      <td>tc6</td>\n",
       "      <td>EHT6</td>\n",
       "      <td>9.533280</td>\n",
       "      <td>-2.826561</td>\n",
       "    </tr>\n",
       "  </tbody>\n",
       "</table>\n",
       "<p>5 rows × 94 columns</p>\n",
       "</div>"
      ],
      "text/plain": [
       "                            Index    Age Development_stage Condition Day  \\\n",
       "H5_AGCCTAATCTGGGCCA-3  GSM4817928  4-12m             adult   Healthy   0   \n",
       "H5_CATTCGCGTGTGCGTC-3  GSM4817928  4-12m             adult   Healthy   0   \n",
       "H5_TACTTACTCAAGAAGT-3  GSM4817928  4-12m             adult   Healthy   0   \n",
       "H5_TCAGATGCACCAGCAC-3  GSM4817928  4-12m             adult   Healthy   0   \n",
       "H5_TGAAAGAAGCGCTTAT-3  GSM4817928  4-12m             adult   Healthy   0   \n",
       "\n",
       "                           Strain Tissue    StudyID   CellType Genotype  ...  \\\n",
       "H5_AGCCTAATCTGGGCCA-3  Zebrabow M  heart  GSE159032  All cells       WT  ...   \n",
       "H5_CATTCGCGTGTGCGTC-3  Zebrabow M  heart  GSE159032  All cells       WT  ...   \n",
       "H5_TACTTACTCAAGAAGT-3  Zebrabow M  heart  GSE159032  All cells       WT  ...   \n",
       "H5_TCAGATGCACCAGCAC-3  Zebrabow M  heart  GSE159032  All cells       WT  ...   \n",
       "H5_TGAAAGAAGCGCTTAT-3  Zebrabow M  heart  GSE159032  All cells       WT  ...   \n",
       "\n",
       "                       Days Leiden_sub_c20 Endo_type  inflammatory_Endo  \\\n",
       "H5_AGCCTAATCTGGGCCA-3  Day0             23       NaN         Other cell   \n",
       "H5_CATTCGCGTGTGCGTC-3  Day0             25       NaN         Other cell   \n",
       "H5_TACTTACTCAAGAAGT-3  Day0           20,3       NaN         Other cell   \n",
       "H5_TCAGATGCACCAGCAC-3  Day0           20,0       NaN         Other cell   \n",
       "H5_TGAAAGAAGCGCTTAT-3  Day0           20,0       NaN         Other cell   \n",
       "\n",
       "                          CT_endov2  CT_fateid_v2  EHT_tc   EHT    UMAP_1  \\\n",
       "H5_AGCCTAATCTGGGCCA-3  Macrophage 2  Macrophage 2     tc6  EHT6  6.786125   \n",
       "H5_CATTCGCGTGTGCGTC-3         EHT-4         EHT-4     tc4  EHT4  7.451823   \n",
       "H5_TACTTACTCAAGAAGT-3  Macrophage 2  Macrophage 2     tc6  EHT6  8.785749   \n",
       "H5_TCAGATGCACCAGCAC-3  Macrophage 2  Macrophage 2     tc6  EHT6  8.911777   \n",
       "H5_TGAAAGAAGCGCTTAT-3  Macrophage 2  Macrophage 2     tc6  EHT6  9.533280   \n",
       "\n",
       "                         UMAP_2  \n",
       "H5_AGCCTAATCTGGGCCA-3 -2.189691  \n",
       "H5_CATTCGCGTGTGCGTC-3 -0.124400  \n",
       "H5_TACTTACTCAAGAAGT-3 -0.588229  \n",
       "H5_TCAGATGCACCAGCAC-3 -1.945594  \n",
       "H5_TGAAAGAAGCGCTTAT-3 -2.826561  \n",
       "\n",
       "[5 rows x 94 columns]"
      ]
     },
     "execution_count": 63,
     "metadata": {},
     "output_type": "execute_result"
    }
   ],
   "source": [
    "adata.obs.head()"
   ]
  },
  {
   "cell_type": "code",
   "execution_count": 64,
   "id": "15f7d946-6f60-403e-991d-7bbb0b09b786",
   "metadata": {},
   "outputs": [],
   "source": [
    "#adata.var.to_csv('./Files/c25_hvg_raw_var.csv')\n",
    "adata.obs.to_csv('./Files/c25LeukoEndov2.hvg_obs.csv')"
   ]
  },
  {
   "cell_type": "code",
   "execution_count": 65,
   "id": "788e4075",
   "metadata": {},
   "outputs": [
    {
     "name": "stderr",
     "output_type": "stream",
     "text": [
      "/cluster/home/yingjun/miniconda3/envs/sc182/lib/python3.8/site-packages/scanpy/plotting/_tools/scatterplots.py:392: UserWarning: No data for colormapping provided via 'c'. Parameters 'cmap' will be ignored\n",
      "  cax = scatter(\n"
     ]
    },
    {
     "data": {
      "image/png": "[encoded data removed]",
      "text/plain": [
       "<Figure size 432x288 with 1 Axes>"
      ]
     },
     "metadata": {},
     "output_type": "display_data"
    }
   ],
   "source": [
    "sc.pl.umap(adata,color='EHT')"
   ]
  },
  {
   "cell_type": "code",
   "execution_count": 103,
   "id": "5af06e8c-eff5-442b-9e5a-33ca2dd49c69",
   "metadata": {},
   "outputs": [],
   "source": [
    "# umap = pd.DataFrame(adata.obsm['X_umap'],index=adata.obs_names,columns=['UMAP1','UMAP2'])\n",
    "# umap.to_csv('./write/Koth_umap.csv')"
   ]
  },
  {
   "cell_type": "code",
   "execution_count": 66,
   "id": "e2375019",
   "metadata": {},
   "outputs": [],
   "source": [
    "adata1 = anndata.AnnData(X=adata.raw.X,var=adata.raw.var,obs=adata.obs)"
   ]
  },
  {
   "cell_type": "code",
   "execution_count": 67,
   "id": "763187e8-28a8-436e-8ae3-3ff5390c45bd",
   "metadata": {},
   "outputs": [],
   "source": [
    "adata1.var = pd.DataFrame(adata1.var.index,index=adata1.var.index)\n",
    "adata1.obs = pd.DataFrame(adata1.obs.index,index=adata1.obs.index)\n",
    "adata1.var = adata1.var.drop(columns=0)\n",
    "adata1.obs = adata1.obs.drop(columns=0)"
   ]
  },
  {
   "cell_type": "code",
   "execution_count": 68,
   "id": "6c70b693-2947-441c-a687-994d092f897d",
   "metadata": {},
   "outputs": [
    {
     "data": {
      "text/plain": [
       "(2992, 40796)"
      ]
     },
     "execution_count": 68,
     "metadata": {},
     "output_type": "execute_result"
    }
   ],
   "source": [
    "adata1.shape"
   ]
  },
  {
   "cell_type": "code",
   "execution_count": 27,
   "id": "5fb51a7e",
   "metadata": {},
   "outputs": [],
   "source": [
    "c25 = sc.read('./write/c25_wt_filtered_original_dpt.h5ad')"
   ]
  },
  {
   "cell_type": "code",
   "execution_count": 69,
   "id": "0aa1ab14-e455-424b-b55b-e6f7a91a5989",
   "metadata": {},
   "outputs": [],
   "source": [
    "adata2 = adata1[:, c25.var_names].copy()\n",
    "adata3 = adata2[:, c25.var.highly_variable].copy()"
   ]
  },
  {
   "cell_type": "code",
   "execution_count": 70,
   "id": "e145a729-a76f-48ea-8895-e74ad1c19f19",
   "metadata": {},
   "outputs": [
    {
     "data": {
      "text/plain": [
       "AnnData object with n_obs × n_vars = 2992 × 9468"
      ]
     },
     "execution_count": 70,
     "metadata": {},
     "output_type": "execute_result"
    }
   ],
   "source": [
    "adata2"
   ]
  },
  {
   "cell_type": "code",
   "execution_count": 71,
   "id": "600b8c59-68a9-41ad-964d-8717ab7342f2",
   "metadata": {},
   "outputs": [
    {
     "data": {
      "text/plain": [
       "AnnData object with n_obs × n_vars = 2992 × 1360"
      ]
     },
     "execution_count": 71,
     "metadata": {},
     "output_type": "execute_result"
    }
   ],
   "source": [
    "adata3"
   ]
  },
  {
   "cell_type": "code",
   "execution_count": 72,
   "id": "add890b0-0fb1-4eda-bb7e-f04ca045d666",
   "metadata": {
    "tags": []
   },
   "outputs": [],
   "source": [
    "adata3.write('./write/c25LeukoEndov2.hvg.rawcnts.h5ad')"
   ]
  },
  {
   "cell_type": "code",
   "execution_count": 73,
   "id": "7121ee77-1e07-4cea-8637-25aac058fb48",
   "metadata": {},
   "outputs": [],
   "source": [
    "adata1.write('./write/c25LeukoEndov2.allg.rawcnts.h5ad')"
   ]
  },
  {
   "cell_type": "markdown",
   "id": "10e8a315-0aae-494f-b0fa-76acfd58e5d3",
   "metadata": {},
   "source": [
    "# Extract meta for lineage analysis"
   ]
  },
  {
   "cell_type": "code",
   "execution_count": 74,
   "id": "f6d526e7-1e0b-4a04-abe8-1b53f419b7b6",
   "metadata": {},
   "outputs": [],
   "source": [
    "Hu_wt_filtered = sc.read('./write/Hu_WTfiltered_processed.h5ad')"
   ]
  },
  {
   "cell_type": "code",
   "execution_count": 77,
   "id": "43eb2822-b74d-447d-81d5-11b1c6971607",
   "metadata": {},
   "outputs": [],
   "source": [
    "Hu_wt_filtered.obs['CT_fateid_v2'] = adata0.obs['CT_fateid_v2']"
   ]
  },
  {
   "cell_type": "code",
   "execution_count": 78,
   "id": "ce5fb325-19b3-441d-9f16-d1bd6df4b953",
   "metadata": {},
   "outputs": [
    {
     "data": {
      "text/plain": [
       "H5_AAATGCCTCTTCGAGA-3            Bl.ves.EC\n",
       "H5_AAGCCGCTCCAAGCCG-3         Thrombocytes\n",
       "H5_ACACCGGAGCTTATCG-3         Thrombocytes\n",
       "H5_ACCGTAATCGGTTCGG-3         Thrombocytes\n",
       "H5_ACGATGTTCTCAACTT-3         Thrombocytes\n",
       "                                ...       \n",
       "Hr27_TTTGTTGAGCAAATGT-3       Endocardium \n",
       "Hr27_TTTGTTGAGCCTATTG-3        Neutrophils\n",
       "Hr27_TTTGTTGAGGAGACCT-3    Cardiomyocytes \n",
       "Hr27_TTTGTTGCAAACGGCA-3       Endocardium \n",
       "Hr27_TTTGTTGGTCGCACGT-3       Endocardium \n",
       "Name: CT_fateid_v2, Length: 140792, dtype: object"
      ]
     },
     "execution_count": 78,
     "metadata": {},
     "output_type": "execute_result"
    }
   ],
   "source": [
    "Hu_wt_filtered.obs['CT_fateid_v2']"
   ]
  },
  {
   "cell_type": "code",
   "execution_count": 79,
   "id": "30ed8d83-8b16-48bc-a33b-3b94c2c26681",
   "metadata": {},
   "outputs": [],
   "source": [
    "Hu_wt_filtered.obs.to_csv('Data/Hu_wt_filtered_fateid_v2.obs.csv')"
   ]
  },
  {
   "cell_type": "code",
   "execution_count": 81,
   "id": "38ce9ccd-044d-4c92-aa51-166e1f965d13",
   "metadata": {},
   "outputs": [],
   "source": [
    "Hu_wt_filtered.write('./write/Hu_WTfiltered_processed.h5ad')"
   ]
  },
  {
   "cell_type": "code",
   "execution_count": 84,
   "id": "45bdfd5f-bac4-480f-bb8b-642b8b45b8a2",
   "metadata": {},
   "outputs": [],
   "source": [
    "del(Hu_wt_filtered)\n",
    "del(adata0)"
   ]
  },
  {
   "cell_type": "code",
   "execution_count": null,
   "id": "1a6f8d97-a487-40d4-90ec-91fd079592c0",
   "metadata": {},
   "outputs": [],
   "source": []
  }
 ],
 "metadata": {
  "kernelspec": {
   "display_name": "sc182-python",
   "language": "python",
   "name": "sc182"
  },
  "language_info": {
   "codemirror_mode": {
    "name": "ipython",
    "version": 3
   },
   "file_extension": ".py",
   "mimetype": "text/x-python",
   "name": "python",
   "nbconvert_exporter": "python",
   "pygments_lexer": "ipython3",
   "version": "3.8.17"
  }
 },
 "nbformat": 4,
 "nbformat_minor": 5
}

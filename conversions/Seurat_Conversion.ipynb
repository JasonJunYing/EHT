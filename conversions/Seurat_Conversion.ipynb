{
 "cells": [
  {
   "cell_type": "markdown",
   "id": "d63c19af-8bea-491e-9bf1-f4e736dd1c09",
   "metadata": {},
   "source": [
    "# Construct Seurat objects"
   ]
  },
  {
   "cell_type": "code",
   "execution_count": 1,
   "id": "9f12f8e7-d962-43c7-b44d-6974a939a3f6",
   "metadata": {
    "scrolled": true,
    "vscode": {
     "languageId": "r"
    }
   },
   "outputs": [
    {
     "name": "stderr",
     "output_type": "stream",
     "text": [
      "Warning message:\n",
      "\"package 'Seurat' was built under R version 4.2.3\"\n",
      "Attaching SeuratObject\n",
      "\n",
      "'SeuratObject' was built with package 'Matrix' 1.6.1.1 but the current\n",
      "version is 1.6.4; it is recomended that you reinstall 'SeuratObject' as\n",
      "the ABI for 'Matrix' may have changed\n",
      "\n",
      "Registered S3 method overwritten by 'SeuratDisk':\n",
      "  method            from  \n",
      "  as.sparse.H5Group Seurat\n",
      "\n"
     ]
    }
   ],
   "source": [
    "\n",
    "library(Seurat)\n",
    "library(SeuratDisk)"
   ]
  },
  {
   "cell_type": "code",
   "execution_count": 3,
   "id": "a4aceae3-17af-4446-9e42-125cda2a095a",
   "metadata": {
    "scrolled": true,
    "vscode": {
     "languageId": "r"
    }
   },
   "outputs": [
    {
     "name": "stderr",
     "output_type": "stream",
     "text": [
      "Warning message:\n",
      "\"Unknown file type: h5ad\"\n",
      "Warning message:\n",
      "\"'assay' not set, setting to 'RNA'\"\n",
      "Creating h5Seurat file for version 3.1.5.9900\n",
      "\n",
      "Adding X as data\n",
      "\n",
      "Adding X as counts\n",
      "\n",
      "Adding meta.features from var\n",
      "\n"
     ]
    }
   ],
   "source": [
    "Author = 'c25LeukoFull.hvg'\n",
    "Convert(paste0('./write/',Author,'.rawcnts.h5ad'), dest = \"h5seurat\", overwrite = TRUE)"
   ]
  },
  {
   "cell_type": "code",
   "execution_count": 4,
   "id": "5730edfb-a9d0-4d83-80ad-aea8393a9640",
   "metadata": {
    "scrolled": true,
    "vscode": {
     "languageId": "r"
    }
   },
   "outputs": [
    {
     "name": "stderr",
     "output_type": "stream",
     "text": [
      "Validating h5Seurat file\n",
      "\n",
      "Initializing RNA with data\n",
      "\n",
      "Adding counts for RNA\n",
      "\n",
      "Adding feature-level metadata for RNA\n",
      "\n",
      "Adding command information\n",
      "\n",
      "Adding cell-level metadata\n",
      "\n",
      "Adding miscellaneous information\n",
      "\n",
      "Adding tool-specific results\n",
      "\n"
     ]
    }
   ],
   "source": [
    "adata = LoadH5Seurat(paste0(\"./write/\",Author,\".rawcnts.h5seurat\"))"
   ]
  },
  {
   "cell_type": "code",
   "execution_count": 6,
   "id": "0fc099d2-63f4-4ab4-a321-7275027ab611",
   "metadata": {
    "vscode": {
     "languageId": "r"
    }
   },
   "outputs": [],
   "source": [
    "adata.obs = read.csv(paste0('./Files/c25LeukoFull.hvg_obs.csv'), row.names=1)\n",
    "adata = CreateSeuratObject(counts=adata[['RNA']]@counts,meta.data=adata.obs)"
   ]
  },
  {
   "cell_type": "code",
   "execution_count": 7,
   "id": "e6d8c8eb-0d1d-4540-a2bb-f01bf84de29a",
   "metadata": {
    "vscode": {
     "languageId": "r"
    }
   },
   "outputs": [
    {
     "data": {
      "text/plain": [
       "An object of class Seurat \n",
       "1360 features across 7668 samples within 1 assay \n",
       "Active assay: RNA (1360 features, 0 variable features)"
      ]
     },
     "metadata": {},
     "output_type": "display_data"
    }
   ],
   "source": [
    "adata"
   ]
  },
  {
   "cell_type": "code",
   "execution_count": 8,
   "id": "5cc2f891-23e0-4d81-91a7-65f76e790045",
   "metadata": {
    "scrolled": true,
    "vscode": {
     "languageId": "r"
    }
   },
   "outputs": [
    {
     "data": {
      "text/html": [
       "<style>\n",
       ".list-inline {list-style: none; margin:0; padding: 0}\n",
       ".list-inline>li {display: inline-block}\n",
       ".list-inline>li:not(:last-child)::after {content: \"\\00b7\"; padding: 0 .5ex}\n",
       "</style>\n",
       "<ol class=list-inline><li>'H5_AGCCTAATCTGGGCCA-3'</li><li>'H5_CATTCGCGTGTGCGTC-3'</li><li>'H5_TACTTACTCAAGAAGT-3'</li><li>'H5_TCAGATGCACCAGCAC-3'</li><li>'H5_TGAAAGAAGCGCTTAT-3'</li><li>'H6_AACTCAGTCCGATATG-3'</li></ol>\n"
      ],
      "text/latex": [
       "\\begin{enumerate*}\n",
       "\\item 'H5\\_AGCCTAATCTGGGCCA-3'\n",
       "\\item 'H5\\_CATTCGCGTGTGCGTC-3'\n",
       "\\item 'H5\\_TACTTACTCAAGAAGT-3'\n",
       "\\item 'H5\\_TCAGATGCACCAGCAC-3'\n",
       "\\item 'H5\\_TGAAAGAAGCGCTTAT-3'\n",
       "\\item 'H6\\_AACTCAGTCCGATATG-3'\n",
       "\\end{enumerate*}\n"
      ],
      "text/markdown": [
       "1. 'H5_AGCCTAATCTGGGCCA-3'\n",
       "2. 'H5_CATTCGCGTGTGCGTC-3'\n",
       "3. 'H5_TACTTACTCAAGAAGT-3'\n",
       "4. 'H5_TCAGATGCACCAGCAC-3'\n",
       "5. 'H5_TGAAAGAAGCGCTTAT-3'\n",
       "6. 'H6_AACTCAGTCCGATATG-3'\n",
       "\n",
       "\n"
      ],
      "text/plain": [
       "[1] \"H5_AGCCTAATCTGGGCCA-3\" \"H5_CATTCGCGTGTGCGTC-3\" \"H5_TACTTACTCAAGAAGT-3\"\n",
       "[4] \"H5_TCAGATGCACCAGCAC-3\" \"H5_TGAAAGAAGCGCTTAT-3\" \"H6_AACTCAGTCCGATATG-3\""
      ]
     },
     "metadata": {},
     "output_type": "display_data"
    }
   ],
   "source": [
    "\n",
    "head(colnames(adata))"
   ]
  },
  {
   "cell_type": "code",
   "execution_count": 9,
   "id": "f8a9dc16-5992-405f-9d1b-331d3ec3d8b9",
   "metadata": {
    "vscode": {
     "languageId": "r"
    }
   },
   "outputs": [
    {
     "data": {
      "text/plain": [
       "Assay data with 1360 features for 7668 cells\n",
       "First 10 features:\n",
       " slc38a4, mrpl42, csrp2, pik3cg, cd9b, coa6, ptprz1b, mrps18a, lta4h,\n",
       "ucmaa "
      ]
     },
     "metadata": {},
     "output_type": "display_data"
    }
   ],
   "source": [
    "\n",
    "adata[['RNA']]"
   ]
  },
  {
   "cell_type": "code",
   "execution_count": 10,
   "id": "20161c50-0176-4de5-9ac1-99dddaf558fc",
   "metadata": {
    "vscode": {
     "languageId": "r"
    }
   },
   "outputs": [
    {
     "data": {
      "text/html": [
       "<style>\n",
       ".list-inline {list-style: none; margin:0; padding: 0}\n",
       ".list-inline>li {display: inline-block}\n",
       ".list-inline>li:not(:last-child)::after {content: \"\\00b7\"; padding: 0 .5ex}\n",
       "</style>\n",
       "<ol class=list-inline><li>'orig.ident'</li><li>'nCount_RNA'</li><li>'nFeature_RNA'</li><li>'Index'</li><li>'Age'</li><li>'Development_stage'</li><li>'Condition'</li><li>'Day'</li><li>'Strain'</li><li>'Tissue'</li><li>'StudyID'</li><li>'CellType'</li><li>'Genotype'</li><li>'Organism'</li><li>'Gender'</li><li>'Author'</li><li>'n_genes'</li><li>'n_genes_by_counts'</li><li>'log1p_n_genes_by_counts'</li><li>'total_counts'</li><li>'log1p_total_counts'</li><li>'pct_counts_in_top_50_genes'</li><li>'pct_counts_in_top_100_genes'</li><li>'pct_counts_in_top_200_genes'</li><li>'pct_counts_in_top_500_genes'</li><li>'total_counts_mt'</li><li>'log1p_total_counts_mt'</li><li>'pct_counts_mt'</li><li>'batch'</li><li>'n_counts'</li><li>'phase'</li><li>'S_score'</li><li>'G2M_score'</li><li>'EGFP'</li><li>'FishID'</li><li>'Treatment'</li><li>'RFP'</li><li>'db_scores'</li><li>'FishID_new'</li><li>'CellID'</li><li>'Cell'</li><li>'percent.mito'</li><li>'time'</li><li>'morphine'</li><li>'AV'</li><li>'inhib'</li><li>'so.far.ident.subtypes'</li><li>'so.far.ident'</li><li>'RNA_snn_res.4'</li><li>'seurat_clusters'</li><li>'work.ident'</li><li>'fibro.subtypes'</li><li>'is.inhib'</li><li>'split.inhib'</li><li>'zoom.ident'</li><li>'zoom.subtypes'</li><li>'plot.ident'</li><li>'CM.ident'</li><li>'paper.ident'</li><li>'RNA_snn_res.2'</li><li>'RNA_snn_res.3'</li><li>'RNA_snn_res.3.5'</li><li>'work.ident2'</li><li>'work.ident3'</li><li>'final.zoom'</li><li>'lineage.ident'</li><li>'Cell_type'</li><li>'Cell_name'</li><li>'Citrine'</li><li>'DsRedEx'</li><li>'Title'</li><li>'Leiden_v1'</li><li>'Leiden_v2'</li><li>'leiden_R'</li><li>'CT_new1'</li><li>'CT_new2'</li><li>'Leiden_sub_c16'</li><li>'Leiden_sub_c16_5'</li><li>'Leiden_sub_c27'</li><li>'CT_c16'</li><li>'CT_c27'</li><li>'CT_Final'</li><li>'EHT_num'</li><li>'CT_new3'</li><li>'EHT_tc'</li><li>'EHT'</li><li>'UMAP_1'</li><li>'UMAP_2'</li></ol>\n"
      ],
      "text/latex": [
       "\\begin{enumerate*}\n",
       "\\item 'orig.ident'\n",
       "\\item 'nCount\\_RNA'\n",
       "\\item 'nFeature\\_RNA'\n",
       "\\item 'Index'\n",
       "\\item 'Age'\n",
       "\\item 'Development\\_stage'\n",
       "\\item 'Condition'\n",
       "\\item 'Day'\n",
       "\\item 'Strain'\n",
       "\\item 'Tissue'\n",
       "\\item 'StudyID'\n",
       "\\item 'CellType'\n",
       "\\item 'Genotype'\n",
       "\\item 'Organism'\n",
       "\\item 'Gender'\n",
       "\\item 'Author'\n",
       "\\item 'n\\_genes'\n",
       "\\item 'n\\_genes\\_by\\_counts'\n",
       "\\item 'log1p\\_n\\_genes\\_by\\_counts'\n",
       "\\item 'total\\_counts'\n",
       "\\item 'log1p\\_total\\_counts'\n",
       "\\item 'pct\\_counts\\_in\\_top\\_50\\_genes'\n",
       "\\item 'pct\\_counts\\_in\\_top\\_100\\_genes'\n",
       "\\item 'pct\\_counts\\_in\\_top\\_200\\_genes'\n",
       "\\item 'pct\\_counts\\_in\\_top\\_500\\_genes'\n",
       "\\item 'total\\_counts\\_mt'\n",
       "\\item 'log1p\\_total\\_counts\\_mt'\n",
       "\\item 'pct\\_counts\\_mt'\n",
       "\\item 'batch'\n",
       "\\item 'n\\_counts'\n",
       "\\item 'phase'\n",
       "\\item 'S\\_score'\n",
       "\\item 'G2M\\_score'\n",
       "\\item 'EGFP'\n",
       "\\item 'FishID'\n",
       "\\item 'Treatment'\n",
       "\\item 'RFP'\n",
       "\\item 'db\\_scores'\n",
       "\\item 'FishID\\_new'\n",
       "\\item 'CellID'\n",
       "\\item 'Cell'\n",
       "\\item 'percent.mito'\n",
       "\\item 'time'\n",
       "\\item 'morphine'\n",
       "\\item 'AV'\n",
       "\\item 'inhib'\n",
       "\\item 'so.far.ident.subtypes'\n",
       "\\item 'so.far.ident'\n",
       "\\item 'RNA\\_snn\\_res.4'\n",
       "\\item 'seurat\\_clusters'\n",
       "\\item 'work.ident'\n",
       "\\item 'fibro.subtypes'\n",
       "\\item 'is.inhib'\n",
       "\\item 'split.inhib'\n",
       "\\item 'zoom.ident'\n",
       "\\item 'zoom.subtypes'\n",
       "\\item 'plot.ident'\n",
       "\\item 'CM.ident'\n",
       "\\item 'paper.ident'\n",
       "\\item 'RNA\\_snn\\_res.2'\n",
       "\\item 'RNA\\_snn\\_res.3'\n",
       "\\item 'RNA\\_snn\\_res.3.5'\n",
       "\\item 'work.ident2'\n",
       "\\item 'work.ident3'\n",
       "\\item 'final.zoom'\n",
       "\\item 'lineage.ident'\n",
       "\\item 'Cell\\_type'\n",
       "\\item 'Cell\\_name'\n",
       "\\item 'Citrine'\n",
       "\\item 'DsRedEx'\n",
       "\\item 'Title'\n",
       "\\item 'Leiden\\_v1'\n",
       "\\item 'Leiden\\_v2'\n",
       "\\item 'leiden\\_R'\n",
       "\\item 'CT\\_new1'\n",
       "\\item 'CT\\_new2'\n",
       "\\item 'Leiden\\_sub\\_c16'\n",
       "\\item 'Leiden\\_sub\\_c16\\_5'\n",
       "\\item 'Leiden\\_sub\\_c27'\n",
       "\\item 'CT\\_c16'\n",
       "\\item 'CT\\_c27'\n",
       "\\item 'CT\\_Final'\n",
       "\\item 'EHT\\_num'\n",
       "\\item 'CT\\_new3'\n",
       "\\item 'EHT\\_tc'\n",
       "\\item 'EHT'\n",
       "\\item 'UMAP\\_1'\n",
       "\\item 'UMAP\\_2'\n",
       "\\end{enumerate*}\n"
      ],
      "text/markdown": [
       "1. 'orig.ident'\n",
       "2. 'nCount_RNA'\n",
       "3. 'nFeature_RNA'\n",
       "4. 'Index'\n",
       "5. 'Age'\n",
       "6. 'Development_stage'\n",
       "7. 'Condition'\n",
       "8. 'Day'\n",
       "9. 'Strain'\n",
       "10. 'Tissue'\n",
       "11. 'StudyID'\n",
       "12. 'CellType'\n",
       "13. 'Genotype'\n",
       "14. 'Organism'\n",
       "15. 'Gender'\n",
       "16. 'Author'\n",
       "17. 'n_genes'\n",
       "18. 'n_genes_by_counts'\n",
       "19. 'log1p_n_genes_by_counts'\n",
       "20. 'total_counts'\n",
       "21. 'log1p_total_counts'\n",
       "22. 'pct_counts_in_top_50_genes'\n",
       "23. 'pct_counts_in_top_100_genes'\n",
       "24. 'pct_counts_in_top_200_genes'\n",
       "25. 'pct_counts_in_top_500_genes'\n",
       "26. 'total_counts_mt'\n",
       "27. 'log1p_total_counts_mt'\n",
       "28. 'pct_counts_mt'\n",
       "29. 'batch'\n",
       "30. 'n_counts'\n",
       "31. 'phase'\n",
       "32. 'S_score'\n",
       "33. 'G2M_score'\n",
       "34. 'EGFP'\n",
       "35. 'FishID'\n",
       "36. 'Treatment'\n",
       "37. 'RFP'\n",
       "38. 'db_scores'\n",
       "39. 'FishID_new'\n",
       "40. 'CellID'\n",
       "41. 'Cell'\n",
       "42. 'percent.mito'\n",
       "43. 'time'\n",
       "44. 'morphine'\n",
       "45. 'AV'\n",
       "46. 'inhib'\n",
       "47. 'so.far.ident.subtypes'\n",
       "48. 'so.far.ident'\n",
       "49. 'RNA_snn_res.4'\n",
       "50. 'seurat_clusters'\n",
       "51. 'work.ident'\n",
       "52. 'fibro.subtypes'\n",
       "53. 'is.inhib'\n",
       "54. 'split.inhib'\n",
       "55. 'zoom.ident'\n",
       "56. 'zoom.subtypes'\n",
       "57. 'plot.ident'\n",
       "58. 'CM.ident'\n",
       "59. 'paper.ident'\n",
       "60. 'RNA_snn_res.2'\n",
       "61. 'RNA_snn_res.3'\n",
       "62. 'RNA_snn_res.3.5'\n",
       "63. 'work.ident2'\n",
       "64. 'work.ident3'\n",
       "65. 'final.zoom'\n",
       "66. 'lineage.ident'\n",
       "67. 'Cell_type'\n",
       "68. 'Cell_name'\n",
       "69. 'Citrine'\n",
       "70. 'DsRedEx'\n",
       "71. 'Title'\n",
       "72. 'Leiden_v1'\n",
       "73. 'Leiden_v2'\n",
       "74. 'leiden_R'\n",
       "75. 'CT_new1'\n",
       "76. 'CT_new2'\n",
       "77. 'Leiden_sub_c16'\n",
       "78. 'Leiden_sub_c16_5'\n",
       "79. 'Leiden_sub_c27'\n",
       "80. 'CT_c16'\n",
       "81. 'CT_c27'\n",
       "82. 'CT_Final'\n",
       "83. 'EHT_num'\n",
       "84. 'CT_new3'\n",
       "85. 'EHT_tc'\n",
       "86. 'EHT'\n",
       "87. 'UMAP_1'\n",
       "88. 'UMAP_2'\n",
       "\n",
       "\n"
      ],
      "text/plain": [
       " [1] \"orig.ident\"                  \"nCount_RNA\"                 \n",
       " [3] \"nFeature_RNA\"                \"Index\"                      \n",
       " [5] \"Age\"                         \"Development_stage\"          \n",
       " [7] \"Condition\"                   \"Day\"                        \n",
       " [9] \"Strain\"                      \"Tissue\"                     \n",
       "[11] \"StudyID\"                     \"CellType\"                   \n",
       "[13] \"Genotype\"                    \"Organism\"                   \n",
       "[15] \"Gender\"                      \"Author\"                     \n",
       "[17] \"n_genes\"                     \"n_genes_by_counts\"          \n",
       "[19] \"log1p_n_genes_by_counts\"     \"total_counts\"               \n",
       "[21] \"log1p_total_counts\"          \"pct_counts_in_top_50_genes\" \n",
       "[23] \"pct_counts_in_top_100_genes\" \"pct_counts_in_top_200_genes\"\n",
       "[25] \"pct_counts_in_top_500_genes\" \"total_counts_mt\"            \n",
       "[27] \"log1p_total_counts_mt\"       \"pct_counts_mt\"              \n",
       "[29] \"batch\"                       \"n_counts\"                   \n",
       "[31] \"phase\"                       \"S_score\"                    \n",
       "[33] \"G2M_score\"                   \"EGFP\"                       \n",
       "[35] \"FishID\"                      \"Treatment\"                  \n",
       "[37] \"RFP\"                         \"db_scores\"                  \n",
       "[39] \"FishID_new\"                  \"CellID\"                     \n",
       "[41] \"Cell\"                        \"percent.mito\"               \n",
       "[43] \"time\"                        \"morphine\"                   \n",
       "[45] \"AV\"                          \"inhib\"                      \n",
       "[47] \"so.far.ident.subtypes\"       \"so.far.ident\"               \n",
       "[49] \"RNA_snn_res.4\"               \"seurat_clusters\"            \n",
       "[51] \"work.ident\"                  \"fibro.subtypes\"             \n",
       "[53] \"is.inhib\"                    \"split.inhib\"                \n",
       "[55] \"zoom.ident\"                  \"zoom.subtypes\"              \n",
       "[57] \"plot.ident\"                  \"CM.ident\"                   \n",
       "[59] \"paper.ident\"                 \"RNA_snn_res.2\"              \n",
       "[61] \"RNA_snn_res.3\"               \"RNA_snn_res.3.5\"            \n",
       "[63] \"work.ident2\"                 \"work.ident3\"                \n",
       "[65] \"final.zoom\"                  \"lineage.ident\"              \n",
       "[67] \"Cell_type\"                   \"Cell_name\"                  \n",
       "[69] \"Citrine\"                     \"DsRedEx\"                    \n",
       "[71] \"Title\"                       \"Leiden_v1\"                  \n",
       "[73] \"Leiden_v2\"                   \"leiden_R\"                   \n",
       "[75] \"CT_new1\"                     \"CT_new2\"                    \n",
       "[77] \"Leiden_sub_c16\"              \"Leiden_sub_c16_5\"           \n",
       "[79] \"Leiden_sub_c27\"              \"CT_c16\"                     \n",
       "[81] \"CT_c27\"                      \"CT_Final\"                   \n",
       "[83] \"EHT_num\"                     \"CT_new3\"                    \n",
       "[85] \"EHT_tc\"                      \"EHT\"                        \n",
       "[87] \"UMAP_1\"                      \"UMAP_2\"                     "
      ]
     },
     "metadata": {},
     "output_type": "display_data"
    }
   ],
   "source": [
    "\n",
    "colnames(adata@meta.data)"
   ]
  },
  {
   "cell_type": "code",
   "execution_count": 11,
   "id": "25eb384e-74bb-4467-9b4a-86f1216a871d",
   "metadata": {
    "vscode": {
     "languageId": "r"
    }
   },
   "outputs": [],
   "source": [
    "saveRDS(adata,paste0('./write/',Author,'.seurat.rds'))"
   ]
  },
  {
   "cell_type": "code",
   "execution_count": null,
   "id": "a3fbdb27-7223-4ada-aa88-1080e839e1e7",
   "metadata": {
    "vscode": {
     "languageId": "r"
    }
   },
   "outputs": [],
   "source": []
  }
 ],
 "metadata": {
  "kernelspec": {
   "display_name": "R",
   "language": "R",
   "name": "ir"
  },
  "language_info": {
   "codemirror_mode": "r",
   "file_extension": ".r",
   "mimetype": "text/x-r-source",
   "name": "R",
   "pygments_lexer": "r",
   "version": "4.2.0"
  }
 },
 "nbformat": 4,
 "nbformat_minor": 5
}

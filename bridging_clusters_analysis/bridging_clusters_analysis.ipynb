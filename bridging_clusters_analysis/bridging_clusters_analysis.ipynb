{
 "cells": [
  {
   "cell_type": "markdown",
   "id": "f7d190fa-505f-420f-84f0-06291039f16f",
   "metadata": {},
   "source": [
    "# Bridging cluster analysis"
   ]
  },
  {
   "cell_type": "code",
   "execution_count": 559,
   "id": "f08b2b1c",
   "metadata": {
    "scrolled": true
   },
   "outputs": [
    {
     "name": "stdout",
     "output_type": "stream",
     "text": [
      "Warning: Cannot change to a different GUI toolkit: nbagg. Using notebook instead.\n",
      "scanpy==1.9.3 anndata==0.8.0 umap==0.5.3 numpy==1.23.4 scipy==1.9.3 pandas==1.5.3 scikit-learn==1.3.2 statsmodels==0.14.0 python-igraph==0.10.4 pynndescent==0.5.8\n"
     ]
    }
   ],
   "source": [
    "%matplotlib nbagg\n",
    "import numpy as np\n",
    "import matplotlib.pyplot as plt\n",
    "import scanpy as sc\n",
    "import pandas as pd\n",
    "from os import listdir\n",
    "from os.path import isfile, join\n",
    "import re\n",
    "import anndata\n",
    "import seaborn as sns\n",
    "\n",
    "plt.rcParams['pdf.fonttype'] = 42\n",
    "plt.rcParams['ps.fonttype'] = 42\n",
    "\n",
    "sc.settings.verbosity = 3  # verbosity: errors (0), warnings (1), info (2), hints (3)\n",
    "sc.logging.print_header()\n",
    "\n",
    "from matplotlib.colors import LinearSegmentedColormap\n",
    "cmap = LinearSegmentedColormap.from_list(name='gene_cmap', colors=['lightgrey', 'thistle', 'red', 'darkred']) \n",
    "\n",
    "sc.settings.set_figure_params(dpi=80, color_map='viridis', vector_friendly=False,  dpi_save=300)"
   ]
  },
  {
   "cell_type": "markdown",
   "id": "c0396bf4",
   "metadata": {
    "tags": []
   },
   "source": [
    "# Further subcluster"
   ]
  },
  {
   "cell_type": "markdown",
   "id": "b43e30a5",
   "metadata": {},
   "source": [
    "## EtoT"
   ]
  },
  {
   "cell_type": "code",
   "execution_count": null,
   "id": "b43bcd1c",
   "metadata": {},
   "outputs": [],
   "source": [
    "adata = sc.read('./write/All_outer_leidenv2.h5ad')"
   ]
  },
  {
   "cell_type": "code",
   "execution_count": null,
   "id": "0637555f-9844-46c5-b46f-58a3a5b2e6f5",
   "metadata": {},
   "outputs": [],
   "source": [
    "sc.tl.leiden(adata,restrict_to=('Leiden_v2',['16']),resolution=0.4,\n",
    "             key_added='Leiden_sub_c16')"
   ]
  },
  {
   "cell_type": "code",
   "execution_count": null,
   "id": "4cc430c4-20b6-4956-82eb-f99ad82ab0cf",
   "metadata": {},
   "outputs": [],
   "source": [
    "c16_5 = adata[adata.obs.Leiden_sub_c16=='16,5']"
   ]
  },
  {
   "cell_type": "code",
   "execution_count": null,
   "id": "3711fa65-6d89-4469-9714-fc64a50d6e9e",
   "metadata": {},
   "outputs": [],
   "source": [
    "sc.pl.umap(c16_5,color='Leiden_sub_c16_5',size=30,\n",
    "          legend_loc='on data',legend_fontsize='xx-small')"
   ]
  },
  {
   "cell_type": "code",
   "execution_count": null,
   "id": "3c5986bf-d767-4dd8-aa63-ba58b50f3509",
   "metadata": {},
   "outputs": [],
   "source": [
    "c16_5.obs['EtoT'] = c16_5.obs.Leiden_sub_c16_5.cat.rename_categories(\n",
    "    {'16,5,0':'EtoT-3',\n",
    "     '16,5,1':'EtoT-6',\n",
    "     '16,5,2':'EtoT-5',\n",
    "     '16,5,3':'EtoT-7',\n",
    "     '16,5,4':'EtoT-2',\n",
    "     '16,5,5':'EtoT-4',\n",
    "     '16,5,6':'EtoT-1'}\n",
    "     )"
   ]
  },
  {
   "cell_type": "code",
   "execution_count": null,
   "id": "5ce86234-a245-4639-afe8-8fe93624bf9d",
   "metadata": {},
   "outputs": [],
   "source": [
    "c16_5.obs['EtoT'] = c16_5.obs['EtoT'].cat.reorder_categories(['EtoT-1','EtoT-2','EtoT-3','EtoT-4','EtoT-5','EtoT-6','EtoT-7'])"
   ]
  },
  {
   "cell_type": "code",
   "execution_count": null,
   "id": "46a18998-19cd-4351-b8cb-74e64c20da5b",
   "metadata": {},
   "outputs": [],
   "source": [
    "sc.pl.umap(c16_5,color='EtoT',size=30)"
   ]
  },
  {
   "cell_type": "markdown",
   "id": "fe58a8e9-0d77-400b-83c1-4318023a86fa",
   "metadata": {
    "jp-MarkdownHeadingCollapsed": true,
    "tags": []
   },
   "source": [
    "## EtoM"
   ]
  },
  {
   "cell_type": "code",
   "execution_count": null,
   "id": "2a667e3a",
   "metadata": {},
   "outputs": [],
   "source": [
    "sc.tl.leiden(adata,restrict_to=('Leiden_v2',['27']),resolution=0.4,\n",
    "             key_added='Leiden_sub_c27')"
   ]
  },
  {
   "cell_type": "code",
   "execution_count": null,
   "id": "a0d0374e-b625-4777-96bb-321e18e50f26",
   "metadata": {},
   "outputs": [],
   "source": [
    "c27 = adata[adata.obs.Leiden_v2=='27']"
   ]
  },
  {
   "cell_type": "code",
   "execution_count": null,
   "id": "7ad8539f-79a7-454f-94e5-22a914985757",
   "metadata": {},
   "outputs": [],
   "source": [
    "\n",
    "sc.pl.umap(c27,color='Leiden_sub_c27',size=30,\n",
    "          #legend_loc='on data',legend_fontsize='xx-small'\n",
    "          )"
   ]
  },
  {
   "cell_type": "code",
   "execution_count": null,
   "id": "7b8ff4d3-635d-47af-84c5-942ece799bdb",
   "metadata": {},
   "outputs": [],
   "source": [
    "c27.obs['EtoM'] = c27.obs.Leiden_sub_c27.cat.rename_categories(\n",
    "    {'27,0':'EtoM-3',\n",
    "     '27,1':'EtoM-4',\n",
    "     '27,2':'EtoM-2',\n",
    "     '27,3':'EtoM-1',\n",
    "     '27,4':'EtoM-5',\n",
    "     '27,5':'EtoM-6'}\n",
    "     )"
   ]
  },
  {
   "cell_type": "code",
   "execution_count": null,
   "id": "30cbab6d-fc4c-4a55-883c-67eafe0b3131",
   "metadata": {},
   "outputs": [],
   "source": [
    "c27.obs['EtoM'] = c27.obs['EtoM'].cat.reorder_categories(['EtoM-1','EtoM-2','EtoM-3','EtoM-4','EtoM-5','EtoM-6'])"
   ]
  },
  {
   "cell_type": "code",
   "execution_count": null,
   "id": "aa9f2261-35a7-41df-a4ed-5741508d074e",
   "metadata": {},
   "outputs": [],
   "source": [
    "sc.pl.umap(c27,color='EtoM',size=30)"
   ]
  },
  {
   "cell_type": "markdown",
   "id": "c9ea9180",
   "metadata": {},
   "source": [
    "## TtoM"
   ]
  },
  {
   "cell_type": "code",
   "execution_count": null,
   "id": "65f2964a-9152-4c06-945b-3b0e14d4ca25",
   "metadata": {},
   "outputs": [],
   "source": [
    "sc.tl.leiden(adata,restrict_to=['Leiden_v2',['20']],key_added='Leiden_sub_c20',resolution=0.3)"
   ]
  },
  {
   "cell_type": "code",
   "execution_count": null,
   "id": "4fc99d96-1030-41ed-8668-1c83d2911b81",
   "metadata": {},
   "outputs": [],
   "source": [
    "sc.pl.umap(adata,color='Leiden_sub_c20',groups=['20,4'],size=5,palette=['#1f77b4'])"
   ]
  },
  {
   "cell_type": "code",
   "execution_count": null,
   "id": "b27870fd-1b72-4307-b283-4fe17446b715",
   "metadata": {},
   "outputs": [],
   "source": [
    "c20 = adata[adata.obs.Leiden_v2=='20']"
   ]
  },
  {
   "cell_type": "code",
   "execution_count": null,
   "id": "f10ea275-452d-440f-be0f-8a0aabf5e0e7",
   "metadata": {},
   "outputs": [],
   "source": [
    "sc.tl.leiden(c20,restrict_to=['Leiden_sub_c20',['20,4']],key_added='Leiden_sub_c20_4',resolution=0.8)"
   ]
  },
  {
   "cell_type": "code",
   "execution_count": null,
   "id": "0fa68f42-fe08-4f9e-8897-2cc12f423868",
   "metadata": {},
   "outputs": [],
   "source": [
    "sc.pl.umap(c20,color='Leiden_sub_c20_4',size=5)"
   ]
  },
  {
   "cell_type": "code",
   "execution_count": null,
   "id": "9c746b93-f059-4f68-94a2-e8ccf84b8b83",
   "metadata": {},
   "outputs": [],
   "source": [
    "c20_4 = c20[c20.obs.Leiden_sub_c20=='20,4']"
   ]
  },
  {
   "cell_type": "code",
   "execution_count": null,
   "id": "3b2789ae-0fcc-4234-ad8a-9ea85f1162ab",
   "metadata": {},
   "outputs": [],
   "source": [
    "sc.pl.umap(c20_4,color='Leiden_sub_c20_4',size=50,\n",
    "          #legend_loc='on data',legend_fontsize='xx-small'\n",
    "          )"
   ]
  },
  {
   "cell_type": "code",
   "execution_count": null,
   "id": "186c378a-54da-4867-9d98-2f37f432556f",
   "metadata": {},
   "outputs": [],
   "source": [
    "c20_4.obs['TtoM'] = c20_4.obs.Leiden_sub_c20_4.cat.rename_categories(\n",
    "    {'20,4,0':'TtoM-2',\n",
    "     '20,4,1':'TtoM-1',\n",
    "     '20,4,2':'TtoM-3',}\n",
    "     )"
   ]
  },
  {
   "cell_type": "code",
   "execution_count": null,
   "id": "f3635297-89ba-41f3-b6f7-709d94738a9d",
   "metadata": {},
   "outputs": [],
   "source": [
    "c20_4.obs['TtoM'] = c20_4.obs['TtoM'].cat.reorder_categories(['TtoM-1','TtoM-2','TtoM-3'])"
   ]
  },
  {
   "cell_type": "code",
   "execution_count": null,
   "id": "ca9eac09-30cc-4ca9-a784-9303016d4e98",
   "metadata": {},
   "outputs": [],
   "source": [
    "sc.pl.umap(c20_5,color='TtoM',size=50)"
   ]
  },
  {
   "cell_type": "markdown",
   "id": "47b1d970",
   "metadata": {},
   "source": [
    "# Combined"
   ]
  },
  {
   "cell_type": "code",
   "execution_count": null,
   "id": "397a8967-bbd6-4940-8061-14a5d7fc45d6",
   "metadata": {
    "tags": []
   },
   "outputs": [],
   "source": [
    "c27.obs['Leiden_sub'] = 'c27_EtoM'\n",
    "c16_5.obs['Leiden_sub'] = 'c16_5_EtoT'\n",
    "c20_4.obs['Leiden_sub'] = 'c20_4_TtoM'"
   ]
  },
  {
   "cell_type": "code",
   "execution_count": null,
   "id": "70210050-0816-4d4d-bc8d-de4a34fc4f22",
   "metadata": {},
   "outputs": [],
   "source": [
    "adata_bridge = anndata.concat([c27,c20_4,c16_5])"
   ]
  },
  {
   "cell_type": "markdown",
   "id": "22d0af7f",
   "metadata": {},
   "source": [
    "# Dotplots"
   ]
  },
  {
   "cell_type": "code",
   "execution_count": null,
   "id": "cf89afa4",
   "metadata": {},
   "outputs": [],
   "source": [
    "GL = ['kdrl','cdh5','notch1b','gata1a','gata2a','gata2b','itga2b','tal1','myb','spi1b']"
   ]
  },
  {
   "cell_type": "code",
   "execution_count": null,
   "id": "e2531e5a",
   "metadata": {},
   "outputs": [],
   "source": [
    "Todraw = 'Thrombo_To_Macro'\n",
    "TD = c16_5 if Todraw=='Endo_To_Thrombo' else (c27 if Todraw=='Endo_To_Macro' else c20_4)\n",
    "groupby = 'EtoT' if Todraw=='Endo_To_Thrombo' else ('EtoM' if Todraw=='Endo_To_Macro' else 'TtoM')\n",
    "sc.pl.dotplot(TD,var_names=GL,groupby=groupby,swap_axes=True,standard_scale='var',\n",
    "              title=Todraw,save=f'S2_{Todraw}.genes.pdf'\n",
    "             )"
   ]
  },
  {
   "cell_type": "markdown",
   "id": "d7b3c0c8",
   "metadata": {},
   "source": [
    "# UMAPs"
   ]
  },
  {
   "cell_type": "code",
   "execution_count": null,
   "id": "2ec677b3",
   "metadata": {},
   "outputs": [],
   "source": [
    "sc.pl.umap(c27,color=['phase','db_scores'],size=30,\n",
    "           wspace=0.2,\n",
    "           cmap=cmap,\n",
    "           save='_c17_basic2.png')"
   ]
  },
  {
   "cell_type": "code",
   "execution_count": null,
   "id": "e732677a",
   "metadata": {},
   "outputs": [],
   "source": [
    "adata = sc.read('./write/All_outer_Leidenv2.h5ad') # All_cells"
   ]
  },
  {
   "cell_type": "code",
   "execution_count": null,
   "id": "066f1f56",
   "metadata": {},
   "outputs": [],
   "source": [
    "adata.obs['Leiden_sub'] = adata_bridge.obs['Leiden_sub']"
   ]
  },
  {
   "cell_type": "code",
   "execution_count": null,
   "id": "72179b59",
   "metadata": {},
   "outputs": [],
   "source": [
    "sc.pl.umap(adata,color='Leiden_sub',size=5,\n",
    "          save='_3_bridges.pdf')\n",
    "\n",
    "sc.pl.umap(adata,color='Leiden_v2',groups=['16','20','27'],size=5,\n",
    "          save'_3_bridge_clus.pdf)"
   ]
  },
  {
   "cell_type": "markdown",
   "id": "bae580bd",
   "metadata": {},
   "source": [
    "## Proportion analysis"
   ]
  },
  {
   "cell_type": "code",
   "execution_count": null,
   "id": "98323a54-c992-465d-a9f8-9b0ad440beba",
   "metadata": {},
   "outputs": [],
   "source": [
    "# c27,c16,c25, c20, WT_filtered, COMBINED\n",
    "adata2.obs['Con'] = adata2.obs['Day'].astype(str)+'_'+adata2.obs['Author'].astype(str) \n",
    "adata2.obs['Leiden_v2'] = adata[np.intersect1d(adata.obs_names,adata2.obs_names)].obs['Leiden_v2']\n",
    "cl = ['16', '20', '25','27']\n",
    "tab1 = pd.crosstab(adata2[np.in1d(adata2.obs['Leiden_v2'], cl)].obs['Leiden_v2'], adata2.obs['Con'])"
   ]
  },
  {
   "cell_type": "code",
   "execution_count": null,
   "id": "b9a2df41-0bb1-4672-b52a-46a28b873e9b",
   "metadata": {},
   "outputs": [],
   "source": [
    "print(pd.crosstab(adata2.obs.Day,adata2.obs.Condition))"
   ]
  },
  {
   "cell_type": "code",
   "execution_count": null,
   "id": "264b3170-50b9-4c12-a9bb-4ece6e190d54",
   "metadata": {},
   "outputs": [],
   "source": [
    "total_cnt = adata2.obs['Con'].value_counts()"
   ]
  },
  {
   "cell_type": "code",
   "execution_count": null,
   "id": "5859bff0-502f-453f-aff0-8c62cbe45c0a",
   "metadata": {},
   "outputs": [],
   "source": [
    "tab2 = tab1.T.join(total_cnt)"
   ]
  },
  {
   "cell_type": "code",
   "execution_count": null,
   "id": "d710d923-a5c1-4354-b55f-bdd31dafeb0b",
   "metadata": {},
   "outputs": [],
   "source": [
    "tab2.head()\n",
    "tab2.to_csv('./Files/tab2_WT_filtered_Combined.csv')"
   ]
  },
  {
   "cell_type": "code",
   "execution_count": null,
   "id": "f4ee9c12-bf1a-4cdd-ab49-af2b8ec5a609",
   "metadata": {},
   "outputs": [],
   "source": [
    "# c27,c16_5 and c20_4. All cells\n",
    "All_cells.obs['Con'] = All_cells.obs['Day'].astype(str)+'_'+All_cells.obs['Author'].astype(str)\n",
    "bridge.obs['Con'] = bridge.obs['Day'].astype(str)+'_'+bridge.obs['Author'].astype(str) \n",
    "cl = ['c16_5_EtoT', 'c20_4_TtoM', 'c27_EtoM']\n",
    "tab1 = pd.crosstab(bridge[np.in1d(bridge.obs['Leiden_sub'], cl)].obs['Leiden_sub'], bridge.obs['Con'])"
   ]
  },
  {
   "cell_type": "code",
   "execution_count": null,
   "id": "76ed1865-1871-4188-91ce-1ccf21e7622b",
   "metadata": {},
   "outputs": [],
   "source": [
    "total_cnt = adata2.obs['Con'].value_counts()"
   ]
  },
  {
   "cell_type": "code",
   "execution_count": null,
   "id": "5c9c2e64-55d3-470d-83ab-1fe57658db56",
   "metadata": {},
   "outputs": [],
   "source": [
    "tab2 = tab1.T.join(total_cnt)"
   ]
  },
  {
   "cell_type": "code",
   "execution_count": null,
   "id": "3851c0c8-d584-4460-a046-188a2c5f8199",
   "metadata": {},
   "outputs": [],
   "source": [
    "print(tab2.head())"
   ]
  },
  {
   "cell_type": "code",
   "execution_count": null,
   "id": "098bfac0-1266-48b6-b41e-e141fe7bddfc",
   "metadata": {},
   "outputs": [],
   "source": [
    "tab2.to_csv('./Files/tab2_bridge_Combined.csv')"
   ]
  }
 ],
 "metadata": {
  "kernelspec": {
   "display_name": "sc182-python",
   "language": "python",
   "name": "sc182"
  },
  "language_info": {
   "codemirror_mode": {
    "name": "ipython",
    "version": 3
   },
   "file_extension": ".py",
   "mimetype": "text/x-python",
   "name": "python",
   "nbconvert_exporter": "python",
   "pygments_lexer": "ipython3",
   "version": "3.8.17"
  }
 },
 "nbformat": 4,
 "nbformat_minor": 5
}
